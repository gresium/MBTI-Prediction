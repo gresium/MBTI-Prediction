{
 "cells": [
  {
   "cell_type": "code",
   "execution_count": 1,
   "id": "e7236c44",
   "metadata": {},
   "outputs": [
    {
     "name": "stdout",
     "output_type": "stream",
     "text": [
      "/opt/anaconda3/bin/python\n",
      "Requirement already satisfied: plotly in /opt/anaconda3/lib/python3.13/site-packages (6.0.1)\n",
      "Collecting plotly\n",
      "  Using cached plotly-6.2.0-py3-none-any.whl.metadata (8.5 kB)\n",
      "Requirement already satisfied: narwhals>=1.15.1 in /opt/anaconda3/lib/python3.13/site-packages (from plotly) (1.31.0)\n",
      "Requirement already satisfied: packaging in /opt/anaconda3/lib/python3.13/site-packages (from plotly) (24.2)\n",
      "Using cached plotly-6.2.0-py3-none-any.whl (9.6 MB)\n",
      "Installing collected packages: plotly\n",
      "  Attempting uninstall: plotly\n",
      "    Found existing installation: plotly 6.0.1\n",
      "    Uninstalling plotly-6.0.1:\n",
      "      Successfully uninstalled plotly-6.0.1\n",
      "Successfully installed plotly-6.2.0\n",
      "Note: you may need to restart the kernel to use updated packages.\n",
      "6.2.0\n"
     ]
    }
   ],
   "source": [
    "import sys\n",
    "print(sys.executable)  # should show /Users/gres1/new env/.venv/bin/python\n",
    "%pip install -U plotly\n",
    "import plotly; print(plotly.__version__)\n"
   ]
  },
  {
   "cell_type": "code",
   "execution_count": 4,
   "id": "7445782c",
   "metadata": {},
   "outputs": [],
   "source": [
    "# Jupyter magic (must be on its own line)\n",
    "%matplotlib inline\n",
    "\n",
    "# Standard libs\n",
    "import re\n",
    "import numpy as np\n",
    "import pandas as pd\n",
    "\n",
    "# Plotting\n",
    "import matplotlib.pyplot as plt\n",
    "import seaborn as sns\n",
    "import plotly.offline as py\n",
    "import plotly.graph_objs as go\n",
    "import plotly.tools as tls\n",
    "\n",
    "# HTML parsing\n",
    "from bs4 import BeautifulSoup\n",
    "\n",
    "# Scikit-learn\n",
    "from sklearn.model_selection import (\n",
    "    cross_validate,\n",
    "    StratifiedKFold,\n",
    "    learning_curve,\n",
    ")\n",
    "from sklearn.linear_model import LogisticRegression\n",
    "from sklearn.ensemble import ExtraTreesClassifier\n"
   ]
  },
  {
   "cell_type": "code",
   "execution_count": 8,
   "id": "20b369fe",
   "metadata": {},
   "outputs": [],
   "source": [
    "%matplotlib inline\n",
    "\n",
    "# Standard libs\n",
    "import re\n",
    "import numpy as np\n",
    "import pandas as pd\n",
    "\n",
    "# Plotting\n",
    "import matplotlib.pyplot as plt\n",
    "import seaborn as sns\n",
    "import plotly.offline as py\n",
    "import plotly.graph_objs as go\n",
    "import plotly.tools as tls\n",
    "\n",
    "# HTML parsing\n",
    "from bs4 import BeautifulSoup\n",
    "\n",
    "# Scikit-learn\n",
    "from sklearn.model_selection import (\n",
    "    cross_validate,\n",
    "    StratifiedKFold,\n",
    "    learning_curve,\n",
    ")\n",
    "from sklearn.linear_model import LogisticRegression\n",
    "from sklearn.ensemble import ExtraTreesClassifier\n",
    "from sklearn.pipeline import Pipeline\n"
   ]
  },
  {
   "cell_type": "code",
   "execution_count": 15,
   "id": "f48fc74b",
   "metadata": {},
   "outputs": [
    {
     "name": "stdout",
     "output_type": "stream",
     "text": [
      "Warning: Looks like you're using an outdated `kagglehub` version, please consider updating (latest version: 0.3.12)\n",
      "Downloading from https://www.kaggle.com/api/v1/datasets/download/datasnaek/mbti-type?dataset_version_number=1...\n"
     ]
    },
    {
     "name": "stderr",
     "output_type": "stream",
     "text": [
      "100%|██████████| 24.4M/24.4M [00:01<00:00, 13.9MB/s]"
     ]
    },
    {
     "name": "stdout",
     "output_type": "stream",
     "text": [
      "Extracting model files...\n"
     ]
    },
    {
     "name": "stderr",
     "output_type": "stream",
     "text": [
      "\n"
     ]
    },
    {
     "name": "stdout",
     "output_type": "stream",
     "text": [
      "Path to dataset files: /Users/gres1/.cache/kagglehub/datasets/datasnaek/mbti-type/versions/1\n"
     ]
    }
   ],
   "source": [
    " import kagglehub\n",
    "\n",
    "# Download latest version\n",
    "path = kagglehub.dataset_download(\"datasnaek/mbti-type\")\n",
    "\n",
    "print(\"Path to dataset files:\", path)"
   ]
  },
  {
   "cell_type": "code",
   "execution_count": 18,
   "id": "1191c90e",
   "metadata": {},
   "outputs": [
    {
     "name": "stdout",
     "output_type": "stream",
     "text": [
      "Warning: Looks like you're using an outdated `kagglehub` version, please consider updating (latest version: 0.3.12)\n",
      "Dataset dir: /Users/gres1/.cache/kagglehub/datasets/datasnaek/mbti-type/versions/1\n",
      "Top-level files: ['mbti_1.csv']\n",
      "Loading: /Users/gres1/.cache/kagglehub/datasets/datasnaek/mbti-type/versions/1/mbti_1.csv\n",
      "(8675, 2)\n"
     ]
    },
    {
     "data": {
      "text/html": [
       "<div>\n",
       "<style scoped>\n",
       "    .dataframe tbody tr th:only-of-type {\n",
       "        vertical-align: middle;\n",
       "    }\n",
       "\n",
       "    .dataframe tbody tr th {\n",
       "        vertical-align: top;\n",
       "    }\n",
       "\n",
       "    .dataframe thead th {\n",
       "        text-align: right;\n",
       "    }\n",
       "</style>\n",
       "<table border=\"1\" class=\"dataframe\">\n",
       "  <thead>\n",
       "    <tr style=\"text-align: right;\">\n",
       "      <th></th>\n",
       "      <th>type</th>\n",
       "      <th>posts</th>\n",
       "    </tr>\n",
       "  </thead>\n",
       "  <tbody>\n",
       "    <tr>\n",
       "      <th>0</th>\n",
       "      <td>INFJ</td>\n",
       "      <td>'http://www.youtube.com/watch?v=qsXHcwe3krw|||...</td>\n",
       "    </tr>\n",
       "    <tr>\n",
       "      <th>1</th>\n",
       "      <td>ENTP</td>\n",
       "      <td>'I'm finding the lack of me in these posts ver...</td>\n",
       "    </tr>\n",
       "    <tr>\n",
       "      <th>2</th>\n",
       "      <td>INTP</td>\n",
       "      <td>'Good one  _____   https://www.youtube.com/wat...</td>\n",
       "    </tr>\n",
       "    <tr>\n",
       "      <th>3</th>\n",
       "      <td>INTJ</td>\n",
       "      <td>'Dear INTP,   I enjoyed our conversation the o...</td>\n",
       "    </tr>\n",
       "    <tr>\n",
       "      <th>4</th>\n",
       "      <td>ENTJ</td>\n",
       "      <td>'You're fired.|||That's another silly misconce...</td>\n",
       "    </tr>\n",
       "  </tbody>\n",
       "</table>\n",
       "</div>"
      ],
      "text/plain": [
       "   type                                              posts\n",
       "0  INFJ  'http://www.youtube.com/watch?v=qsXHcwe3krw|||...\n",
       "1  ENTP  'I'm finding the lack of me in these posts ver...\n",
       "2  INTP  'Good one  _____   https://www.youtube.com/wat...\n",
       "3  INTJ  'Dear INTP,   I enjoyed our conversation the o...\n",
       "4  ENTJ  'You're fired.|||That's another silly misconce..."
      ]
     },
     "execution_count": 18,
     "metadata": {},
     "output_type": "execute_result"
    }
   ],
   "source": [
    "import os\n",
    "from pathlib import Path\n",
    "import pandas as pd\n",
    "import kagglehub\n",
    "\n",
    "# 1) Download (or reuse cached) dataset and capture the real path\n",
    "path = kagglehub.dataset_download(\"datasnaek/mbti-type\")\n",
    "p = Path(path)\n",
    "print(\"Dataset dir:\", p)\n",
    "\n",
    "# 2) See what's actually there\n",
    "print(\"Top-level files:\", [x.name for x in p.iterdir()])\n",
    "\n",
    "# 3) Find the CSV no matter which version folder kagglehub used\n",
    "csvs = sorted(p.rglob(\"*.csv\"))\n",
    "if not csvs:\n",
    "    raise FileNotFoundError(f\"No CSV files under: {p}\")\n",
    "\n",
    "# Prefer mbti_1.csv if it exists; otherwise take the first CSV found\n",
    "target = next((c for c in csvs if c.name.lower().startswith(\"mbti_1\")), csvs[0])\n",
    "print(\"Loading:\", target)\n",
    "\n",
    "# 4) Read the CSV\n",
    "df = pd.read_csv(target)\n",
    "print(df.shape)\n",
    "df.head()\n"
   ]
  },
  {
   "cell_type": "code",
   "execution_count": 21,
   "id": "800b8298",
   "metadata": {},
   "outputs": [
    {
     "name": "stdout",
     "output_type": "stream",
     "text": [
      "Files: ['mbti_1.csv']\n",
      "Not found: Users.csv under /Users/gres1/.cache/kagglehub/datasets/datasnaek/mbti-type/versions/1\n",
      "Not found: Forum.csv under /Users/gres1/.cache/kagglehub/datasets/datasnaek/mbti-type/versions/1\n"
     ]
    }
   ],
   "source": [
    "from pathlib import Path\n",
    "import pandas as pd\n",
    "import os\n",
    "\n",
    "# You already ran:\n",
    "# import kagglehub\n",
    "# path = kagglehub.dataset_download(\"datasnaek/mbti-type\")\n",
    "base = Path(path)  # <- exact folder where KaggleHub saved the files\n",
    "\n",
    "# See what's actually there\n",
    "print(\"Files:\", [p.name for p in base.rglob(\"*\")])\n",
    "\n",
    "# Load the MBTI dataset\n",
    "train = pd.read_csv(base / \"mbti_1.csv\")\n",
    "\n",
    "# Try to load optional files if they exist (they probably won't for this dataset)\n",
    "def read_if_exists(root: Path, filename: str):\n",
    "    hits = list(root.rglob(filename))\n",
    "    if hits:\n",
    "        print(f\"Loading {hits[0]}\")\n",
    "        return pd.read_csv(hits[0])\n",
    "    else:\n",
    "        print(f\"Not found: {filename} under {root}\")\n",
    "        return None\n",
    "\n",
    "users = read_if_exists(base, \"Users.csv\")\n",
    "forum = read_if_exists(base, \"Forum.csv\")\n"
   ]
  },
  {
   "cell_type": "code",
   "execution_count": 22,
   "id": "a0d6b1b2",
   "metadata": {},
   "outputs": [
    {
     "name": "stdout",
     "output_type": "stream",
     "text": [
      "Using: /Users/gres1/.cache/kagglehub/datasets/datasnaek/mbti-type/versions/1/mbti_1.csv\n",
      "Accuracy: 0.687\n",
      "              precision    recall  f1-score   support\n",
      "\n",
      "        ENFJ       0.73      0.29      0.42        38\n",
      "        ENFP       0.73      0.62      0.67       135\n",
      "        ENTJ       0.68      0.37      0.48        46\n",
      "        ENTP       0.65      0.58      0.61       137\n",
      "        ESFJ       0.75      0.33      0.46         9\n",
      "        ESFP       0.00      0.00      0.00        10\n",
      "        ESTJ       1.00      0.12      0.22         8\n",
      "        ESTP       0.89      0.44      0.59        18\n",
      "        INFJ       0.72      0.75      0.73       294\n",
      "        INFP       0.65      0.86      0.74       366\n",
      "        INTJ       0.66      0.66      0.66       218\n",
      "        INTP       0.71      0.84      0.77       261\n",
      "        ISFJ       0.72      0.39      0.51        33\n",
      "        ISFP       0.76      0.35      0.48        54\n",
      "        ISTJ       0.80      0.39      0.52        41\n",
      "        ISTP       0.68      0.60      0.63        67\n",
      "\n",
      "    accuracy                           0.69      1735\n",
      "   macro avg       0.70      0.48      0.53      1735\n",
      "weighted avg       0.69      0.69      0.67      1735\n",
      "\n",
      "Sample preds: ['INTP' 'INTP']\n"
     ]
    }
   ],
   "source": [
    "# --- imports ---\n",
    "import os, re\n",
    "from pathlib import Path\n",
    "import pandas as pd\n",
    "from sklearn.model_selection import train_test_split\n",
    "from sklearn.pipeline import Pipeline\n",
    "from sklearn.feature_extraction.text import TfidfVectorizer\n",
    "from sklearn.svm import LinearSVC\n",
    "from sklearn.metrics import classification_report, accuracy_score\n",
    "\n",
    "# --- resolve dataset path robustly ---\n",
    "try:\n",
    "    path  # path returned earlier by kagglehub.dataset_download(...)\n",
    "except NameError:\n",
    "    # If 'path' isn't defined, download (or use cache) now\n",
    "    import kagglehub\n",
    "    path = kagglehub.dataset_download(\"datasnaek/mbti-type\")\n",
    "\n",
    "base = Path(path)\n",
    "# Find mbti_1.csv regardless of version folder\n",
    "candidates = list(base.rglob(\"mbti_1.csv\"))\n",
    "if not candidates:\n",
    "    raise FileNotFoundError(f\"'mbti_1.csv' not found under {base}\")\n",
    "csv_path = candidates[0]\n",
    "print(\"Using:\", csv_path)\n",
    "\n",
    "# --- load ---\n",
    "df = pd.read_csv(csv_path)\n",
    "assert {\"type\", \"posts\"}.issubset(df.columns), f\"Unexpected columns: {df.columns.tolist()}\"\n",
    "df = df.dropna(subset=[\"type\", \"posts\"]).copy()\n",
    "\n",
    "# --- clean text ---\n",
    "def clean_text(s: str) -> str:\n",
    "    s = s.lower()\n",
    "    s = s.replace(\"|||\", \" \")                      # posts are separated by '|||'\n",
    "    s = re.sub(r\"https?://\\S+|www\\.\\S+\", \" \", s)   # URLs\n",
    "    s = re.sub(r\"[^a-z\\s]\", \" \", s)                # keep letters/spaces\n",
    "    s = re.sub(r\"\\s+\", \" \", s).strip()\n",
    "    return s\n",
    "\n",
    "df[\"text\"] = df[\"posts\"].astype(str).apply(clean_text)\n",
    "X = df[\"text\"].values\n",
    "y = df[\"type\"].values  # 16 classes\n",
    "\n",
    "# --- split ---\n",
    "X_train, X_test, y_train, y_test = train_test_split(\n",
    "    X, y, test_size=0.2, random_state=42, stratify=y\n",
    ")\n",
    "\n",
    "# --- model pipeline ---\n",
    "pipe = Pipeline([\n",
    "    (\"tfidf\", TfidfVectorizer(stop_words=\"english\", ngram_range=(1, 2),\n",
    "                              max_df=0.9, min_df=2)),\n",
    "    (\"clf\", LinearSVC())\n",
    "])\n",
    "\n",
    "pipe.fit(X_train, y_train)\n",
    "\n",
    "# --- evaluate ---\n",
    "pred = pipe.predict(X_test)\n",
    "print(\"Accuracy:\", round(accuracy_score(y_test, pred), 4))\n",
    "print(classification_report(y_test, pred, zero_division=0))\n",
    "\n",
    "# --- quick demo prediction ---\n",
    "samples = [\n",
    "    \"I love organizing plans and making spreadsheets. People say I'm structured and decisive.\",\n",
    "    \"I get energy from ideas and patterns, not small talk. I enjoy long solo deep-work sessions.\"\n",
    "]\n",
    "print(\"Sample preds:\", pipe.predict(samples))\n"
   ]
  },
  {
   "cell_type": "markdown",
   "id": "c1100a27",
   "metadata": {},
   "source": [
    "Synthetic Dataset Replacement\n"
   ]
  },
  {
   "cell_type": "code",
   "execution_count": 25,
   "id": "0f96a1a7",
   "metadata": {},
   "outputs": [
    {
     "name": "stdout",
     "output_type": "stream",
     "text": [
      "Wrote:\n",
      "   /Users/gres1/new env/data/Users.csv\n",
      "   /Users/gres1/new env/data/Forum.csv\n",
      "Shapes: (1000, 10) (11917, 10)\n",
      "\n",
      "Users head():\n",
      "  user_id    username  type  age  gender country   join_date  posts_count  \\\n",
      "0  U00001  user_00001  INFP   20  Female      AU  2020-04-23           19   \n",
      "1  U00002  user_00002  ISFP   58  Female      BR  2019-03-23           10   \n",
      "2  U00003  user_00003  INTJ   52  Female      JP  2023-02-24           11   \n",
      "\n",
      "   reputation                                   bio  \n",
      "0         226  INFP | Loves relationships | From AU  \n",
      "1          97        ISFP | Loves careers | From BR  \n",
      "2         168          INTJ | Loves books | From JP  \n",
      "\n",
      "Forum head():\n",
      "    post_id user_id            thread_id           created_at  \\\n",
      "0  P0000001  U00001         T_books_0000  2022-06-30T09:15:42   \n",
      "1  P0000002  U00001        T_random_0001  2021-09-02T07:19:01   \n",
      "2  P0000003  U00001  T_productivity_0001  2023-05-26T21:38:36   \n",
      "\n",
      "                        title  \\\n",
      "0         Books chat for INFP   \n",
      "1        Random chat for INFP   \n",
      "2  Productivity chat for INFP   \n",
      "\n",
      "                                             content         topic  likes  \\\n",
      "0  As a INFP, I think about books a lot. Anyone e...         books      5   \n",
      "1  As a INFP, I think about random a lot. Anyone ...        random      1   \n",
      "2  As a INFP, I think about productivity a lot. A...  productivity      7   \n",
      "\n",
      "   replies  sentiment_score  \n",
      "0        8         0.648770  \n",
      "1        7         0.320167  \n",
      "2        1        -0.265735  \n"
     ]
    }
   ],
   "source": [
    "# Create synthetic Users.csv and Forum.csv (no ace_tools required)\n",
    "import numpy as np\n",
    "import pandas as pd\n",
    "from datetime import datetime, timedelta\n",
    "import random\n",
    "from pathlib import Path\n",
    "\n",
    "# ---- CONFIG ----\n",
    "N_USERS = 1000\n",
    "MAX_POSTS_PER_USER = 20  # cap per user to keep size reasonable\n",
    "START_DATE = datetime(2019, 1, 1)\n",
    "END_DATE = datetime.now()\n",
    "\n",
    "MBTI_TYPES = [\n",
    "    \"INTJ\",\"INTP\",\"ENTJ\",\"ENTP\",\n",
    "    \"INFJ\",\"INFP\",\"ENFJ\",\"ENFP\",\n",
    "    \"ISTJ\",\"ISFJ\",\"ESTJ\",\"ESFJ\",\n",
    "    \"ISTP\",\"ISFP\",\"ESTP\",\"ESFP\"\n",
    "]\n",
    "COUNTRIES = [\"US\",\"UK\",\"CA\",\"DE\",\"FR\",\"IN\",\"BR\",\"AU\",\"ZA\",\"JP\"]\n",
    "GENDERS = [\"Male\", \"Female\", \"Non-binary\", \"Prefer not to say\"]\n",
    "TOPICS = [\"careers\",\"relationships\",\"productivity\",\"gaming\",\"books\",\n",
    "          \"music\",\"movies\",\"travel\",\"food\",\"random\"]\n",
    "\n",
    "# Reproducibility\n",
    "rng = np.random.default_rng(42)\n",
    "random.seed(42)\n",
    "\n",
    "def random_date(start: datetime, end: datetime) -> datetime:\n",
    "    delta = end - start\n",
    "    seconds = rng.integers(0, int(delta.total_seconds()))\n",
    "    return start + timedelta(seconds=int(seconds))\n",
    "\n",
    "# ---- USERS ----\n",
    "user_ids = [f\"U{str(i).zfill(5)}\" for i in range(1, N_USERS + 1)]\n",
    "ages = rng.integers(16, 71, size=N_USERS)\n",
    "genders = rng.choice(GENDERS, size=N_USERS, replace=True, p=[0.48, 0.48, 0.03, 0.01])\n",
    "countries = rng.choice(COUNTRIES, size=N_USERS)\n",
    "types = rng.choice(MBTI_TYPES, size=N_USERS)  # uniform; adjust if you want skew\n",
    "join_dates = [random_date(START_DATE, END_DATE).date().isoformat() for _ in range(N_USERS)]\n",
    "posts_counts = rng.poisson(lam=12, size=N_USERS)\n",
    "reputation = np.maximum(0, posts_counts * 10 + rng.normal(0, 50, size=N_USERS)).astype(int)\n",
    "bios = [f\"{t} | Loves {random.choice(TOPICS)} | From {c}\" for t, c in zip(types, countries)]\n",
    "usernames = [f\"user_{i:05d}\" for i in range(1, N_USERS + 1)]\n",
    "\n",
    "users_df = pd.DataFrame({\n",
    "    \"user_id\": user_ids,\n",
    "    \"username\": usernames,\n",
    "    \"type\": types,\n",
    "    \"age\": ages,\n",
    "    \"gender\": genders,\n",
    "    \"country\": countries,\n",
    "    \"join_date\": join_dates,\n",
    "    \"posts_count\": posts_counts,\n",
    "    \"reputation\": reputation,\n",
    "    \"bio\": bios\n",
    "})\n",
    "\n",
    "# ---- FORUM POSTS ----\n",
    "rows = []\n",
    "post_counter = 1\n",
    "thread_counter = {topic: 0 for topic in TOPICS}\n",
    "\n",
    "for uid, jdate, t, pcount in zip(\n",
    "    users_df[\"user_id\"], users_df[\"join_date\"], users_df[\"type\"], users_df[\"posts_count\"]\n",
    "):\n",
    "    n_posts = int(min(pcount, MAX_POSTS_PER_USER))\n",
    "    if n_posts <= 0:\n",
    "        continue\n",
    "    base_join = datetime.fromisoformat(jdate)\n",
    "    for _ in range(n_posts):\n",
    "        topic = random.choice(TOPICS)\n",
    "        if rng.random() < 0.3:\n",
    "            thread_counter[topic] += 1\n",
    "        thread_id = f\"T_{topic}_{thread_counter[topic]:04d}\"\n",
    "\n",
    "        created_at = random_date(base_join, END_DATE)\n",
    "        title = f\"{topic.title()} chat for {t}\"\n",
    "        content = (\n",
    "            f\"As a {t}, I think about {topic} a lot. \"\n",
    "            f\"Anyone else {random.choice(['agree','have tips','disagree','curious'])}?\"\n",
    "        )\n",
    "        likes = int(abs(rng.normal(5, 7)))\n",
    "        replies = int(abs(rng.normal(2, 4)))\n",
    "        sentiment_score = float(np.clip(rng.normal(0.0, 0.4), -1, 1))\n",
    "\n",
    "        rows.append({\n",
    "            \"post_id\": f\"P{post_counter:07d}\",\n",
    "            \"user_id\": uid,\n",
    "            \"thread_id\": thread_id,\n",
    "            \"created_at\": created_at.isoformat(timespec=\"seconds\"),\n",
    "            \"title\": title,\n",
    "            \"content\": content,\n",
    "            \"topic\": topic,\n",
    "            \"likes\": likes,\n",
    "            \"replies\": replies,\n",
    "            \"sentiment_score\": sentiment_score\n",
    "        })\n",
    "        post_counter += 1\n",
    "\n",
    "forum_df = pd.DataFrame(rows)\n",
    "\n",
    "# ---- SAVE LOCALLY ----\n",
    "out_dir = Path(\"data\")\n",
    "out_dir.mkdir(parents=True, exist_ok=True)\n",
    "users_path = out_dir / \"Users.csv\"\n",
    "forum_path = out_dir / \"Forum.csv\"\n",
    "users_df.to_csv(users_path, index=False)\n",
    "forum_df.to_csv(forum_path, index=False)\n",
    "\n",
    "print(\"Wrote:\")\n",
    "print(\"  \", users_path.resolve())\n",
    "print(\"  \", forum_path.resolve())\n",
    "print(\"Shapes:\", users_df.shape, forum_df.shape)\n",
    "\n",
    "# ---- QUICK PREVIEW ----\n",
    "print(\"\\nUsers head():\")\n",
    "print(users_df.head(3))\n",
    "print(\"\\nForum head():\")\n",
    "print(forum_df.head(3))\n"
   ]
  },
  {
   "cell_type": "code",
   "execution_count": 26,
   "id": "fbe81a4d",
   "metadata": {},
   "outputs": [],
   "source": [
    "# --- 1) imports ---------------------------------------------------------------\n",
    "%matplotlib inline\n",
    "\n",
    "import os, re\n",
    "from pathlib import Path\n",
    "\n",
    "import numpy as np\n",
    "import pandas as pd\n",
    "import matplotlib.pyplot as plt\n",
    "import seaborn as sns\n",
    "\n",
    "from sklearn.model_selection import (\n",
    "    train_test_split,\n",
    "    StratifiedKFold,\n",
    "    cross_validate,\n",
    "    learning_curve,\n",
    ")\n",
    "from sklearn.pipeline import Pipeline\n",
    "from sklearn.feature_extraction.text import TfidfVectorizer\n",
    "from sklearn.svm import LinearSVC\n",
    "from sklearn.metrics import classification_report, accuracy_score\n"
   ]
  },
  {
   "cell_type": "code",
   "execution_count": 27,
   "id": "49bcc860",
   "metadata": {},
   "outputs": [
    {
     "name": "stdout",
     "output_type": "stream",
     "text": [
      "Warning: Looks like you're using an outdated `kagglehub` version, please consider updating (latest version: 0.3.12)\n",
      "Using MBTI file: /Users/gres1/.cache/kagglehub/datasets/datasnaek/mbti-type/versions/1/mbti_1.csv\n",
      "Loaded Users.csv from: /Users/gres1/new env/data/Users.csv  shape=(1000, 10)\n",
      "Loaded Forum.csv from: /Users/gres1/new env/data/Forum.csv  shape=(11917, 10)\n",
      "MBTI shape: (8675, 2)\n"
     ]
    },
    {
     "data": {
      "text/html": [
       "<div>\n",
       "<style scoped>\n",
       "    .dataframe tbody tr th:only-of-type {\n",
       "        vertical-align: middle;\n",
       "    }\n",
       "\n",
       "    .dataframe tbody tr th {\n",
       "        vertical-align: top;\n",
       "    }\n",
       "\n",
       "    .dataframe thead th {\n",
       "        text-align: right;\n",
       "    }\n",
       "</style>\n",
       "<table border=\"1\" class=\"dataframe\">\n",
       "  <thead>\n",
       "    <tr style=\"text-align: right;\">\n",
       "      <th></th>\n",
       "      <th>type</th>\n",
       "      <th>posts</th>\n",
       "    </tr>\n",
       "  </thead>\n",
       "  <tbody>\n",
       "    <tr>\n",
       "      <th>0</th>\n",
       "      <td>INFJ</td>\n",
       "      <td>'http://www.youtube.com/watch?v=qsXHcwe3krw|||...</td>\n",
       "    </tr>\n",
       "    <tr>\n",
       "      <th>1</th>\n",
       "      <td>ENTP</td>\n",
       "      <td>'I'm finding the lack of me in these posts ver...</td>\n",
       "    </tr>\n",
       "    <tr>\n",
       "      <th>2</th>\n",
       "      <td>INTP</td>\n",
       "      <td>'Good one  _____   https://www.youtube.com/wat...</td>\n",
       "    </tr>\n",
       "    <tr>\n",
       "      <th>3</th>\n",
       "      <td>INTJ</td>\n",
       "      <td>'Dear INTP,   I enjoyed our conversation the o...</td>\n",
       "    </tr>\n",
       "    <tr>\n",
       "      <th>4</th>\n",
       "      <td>ENTJ</td>\n",
       "      <td>'You're fired.|||That's another silly misconce...</td>\n",
       "    </tr>\n",
       "  </tbody>\n",
       "</table>\n",
       "</div>"
      ],
      "text/plain": [
       "   type                                              posts\n",
       "0  INFJ  'http://www.youtube.com/watch?v=qsXHcwe3krw|||...\n",
       "1  ENTP  'I'm finding the lack of me in these posts ver...\n",
       "2  INTP  'Good one  _____   https://www.youtube.com/wat...\n",
       "3  INTJ  'Dear INTP,   I enjoyed our conversation the o...\n",
       "4  ENTJ  'You're fired.|||That's another silly misconce..."
      ]
     },
     "execution_count": 27,
     "metadata": {},
     "output_type": "execute_result"
    }
   ],
   "source": [
    "# --- 2) locate & load data ----------------------------------------------------\n",
    "# Try to get mbti_1.csv via kagglehub (falls back to local file if not available)\n",
    "mbti_csv = None\n",
    "try:\n",
    "    import kagglehub\n",
    "    kb_path = Path(kagglehub.dataset_download(\"datasnaek/mbti-type\"))\n",
    "    hits = list(kb_path.rglob(\"mbti_1.csv\"))\n",
    "    if hits:\n",
    "        mbti_csv = hits[0]\n",
    "except Exception as e:\n",
    "    print(\"kagglehub not used:\", e)\n",
    "\n",
    "if mbti_csv is None:\n",
    "    # fallback: look in current folder\n",
    "    if Path(\"mbti_1.csv\").exists():\n",
    "        mbti_csv = Path(\"mbti_1.csv\")\n",
    "    else:\n",
    "        raise FileNotFoundError(\n",
    "            \"Couldn't find mbti_1.csv. Either install/use kagglehub or place the CSV next to this notebook.\"\n",
    "        )\n",
    "\n",
    "print(\"Using MBTI file:\", mbti_csv)\n",
    "\n",
    "train = pd.read_csv(mbti_csv)\n",
    "assert {\"type\", \"posts\"}.issubset(train.columns), f\"Unexpected columns: {train.columns.tolist()}\"\n",
    "train = train.dropna(subset=[\"type\", \"posts\"]).copy()\n",
    "\n",
    "# Optionally load synthetic Users/Forum if you created them earlier\n",
    "users_csv_candidates = [Path(\"Users.csv\"), Path(\"data/Users.csv\")]\n",
    "forum_csv_candidates = [Path(\"Forum.csv\"), Path(\"data/Forum.csv\")]\n",
    "\n",
    "users = next((p for p in users_csv_candidates if p.exists()), None)\n",
    "forum = next((p for p in forum_csv_candidates if p.exists()), None)\n",
    "\n",
    "if users:\n",
    "    users_df = pd.read_csv(users)\n",
    "    print(f\"Loaded Users.csv from: {users.resolve()}  shape={users_df.shape}\")\n",
    "else:\n",
    "    users_df = None\n",
    "    print(\"Users.csv not found (that's fine).\")\n",
    "\n",
    "if forum:\n",
    "    forum_df = pd.read_csv(forum)\n",
    "    print(f\"Loaded Forum.csv from: {forum.resolve()}  shape={forum_df.shape}\")\n",
    "else:\n",
    "    forum_df = None\n",
    "    print(\"Forum.csv not found (that's fine).\")\n",
    "\n",
    "print(\"MBTI shape:\", train.shape)\n",
    "train.head()\n"
   ]
  },
  {
   "cell_type": "code",
   "execution_count": 28,
   "id": "96b122a6",
   "metadata": {},
   "outputs": [
    {
     "data": {
      "image/png": "[encoded data removed]",
      "text/plain": [
       "<Figure size 1200x400 with 1 Axes>"
      ]
     },
     "metadata": {},
     "output_type": "display_data"
    },
    {
     "data": {
      "text/plain": [
       "type\n",
       "INFP    1832\n",
       "INFJ    1470\n",
       "INTP    1304\n",
       "INTJ    1091\n",
       "ENTP     685\n",
       "ENFP     675\n",
       "ISTP     337\n",
       "ISFP     271\n",
       "ENTJ     231\n",
       "ISTJ     205\n",
       "ENFJ     190\n",
       "ISFJ     166\n",
       "ESTP      89\n",
       "ESFP      48\n",
       "ESFJ      42\n",
       "ESTJ      39\n",
       "Name: count, dtype: int64"
      ]
     },
     "execution_count": 28,
     "metadata": {},
     "output_type": "execute_result"
    }
   ],
   "source": [
    "# --- 3) EDA: class distribution ----------------------------------------------\n",
    "cnt_srs = train[\"type\"].value_counts().sort_values(ascending=False)\n",
    "\n",
    "plt.figure(figsize=(12, 4))\n",
    "sns.barplot(x=cnt_srs.index, y=cnt_srs.values)\n",
    "plt.title(\"MBTI class counts\")\n",
    "plt.xlabel(\"Type\")\n",
    "plt.ylabel(\"Count\")\n",
    "plt.xticks(rotation=45)\n",
    "plt.tight_layout()\n",
    "plt.show()\n",
    "\n",
    "cnt_srs\n"
   ]
  },
  {
   "cell_type": "code",
   "execution_count": 29,
   "id": "52668130",
   "metadata": {},
   "outputs": [],
   "source": [
    "# --- 4) text cleaning helper --------------------------------------------------\n",
    "def clean_text(s: str) -> str:\n",
    "    s = str(s).lower()\n",
    "    s = s.replace(\"|||\", \" \")                            # posts are pipe-separated\n",
    "    s = re.sub(r\"https?://\\S+|www\\.\\S+\", \" \", s)         # URLs\n",
    "    s = re.sub(r\"[^a-z\\s]\", \" \", s)                      # keep letters/spaces\n",
    "    s = re.sub(r\"\\s+\", \" \", s).strip()\n",
    "    return s\n",
    "\n",
    "train[\"text\"] = train[\"posts\"].apply(clean_text)\n",
    "X = train[\"text\"].values\n",
    "y = train[\"type\"].values\n"
   ]
  },
  {
   "cell_type": "code",
   "execution_count": 32,
   "id": "ff291823",
   "metadata": {},
   "outputs": [
    {
     "name": "stdout",
     "output_type": "stream",
     "text": [
      "CV accuracy (mean ± std): 0.6832 ± 0.0088\n"
     ]
    }
   ],
   "source": [
    "# --- 5) simple model + stratified CV -----------------------------------------\n",
    "pipe = Pipeline([\n",
    "    (\"tfidf\", TfidfVectorizer(stop_words=\"english\",\n",
    "                              ngram_range=(1, 2),\n",
    "                              max_df=0.9, min_df=2)),\n",
    "    (\"clf\", LinearSVC())\n",
    "])\n",
    "\n",
    "cv = StratifiedKFold(n_splits=5, shuffle=True, random_state=42)\n",
    "scores = cross_validate(pipe, X, y, cv=cv, scoring=\"accuracy\", n_jobs=-1, return_train_score=True)\n",
    "\n",
    "print(\"CV accuracy (mean ± std):\",\n",
    "      f\"{scores['test_score'].mean():.4f} ± {scores['test_score'].std():.4f}\")\n"
   ]
  },
  {
   "cell_type": "code",
   "execution_count": 33,
   "id": "d542548e",
   "metadata": {},
   "outputs": [
    {
     "data": {
      "image/png": "[encoded data removed]",
      "text/plain": [
       "<Figure size 800x500 with 1 Axes>"
      ]
     },
     "metadata": {},
     "output_type": "display_data"
    }
   ],
   "source": [
    "# --- 6) learning curve plot ---------------------------------------------------\n",
    "train_sizes, train_scores, val_scores = learning_curve(\n",
    "    estimator=pipe,\n",
    "    X=X,\n",
    "    y=y,\n",
    "    cv=cv,\n",
    "    train_sizes=np.linspace(0.1, 1.0, 5),\n",
    "    scoring=\"accuracy\",\n",
    "    n_jobs=-1,\n",
    "    shuffle=True,\n",
    "    random_state=42\n",
    ")\n",
    "\n",
    "plt.figure(figsize=(8,5))\n",
    "plt.plot(train_sizes, train_scores.mean(axis=1), marker=\"o\", label=\"Train\")\n",
    "plt.plot(train_sizes, val_scores.mean(axis=1), marker=\"o\", label=\"CV\")\n",
    "plt.xlabel(\"Training samples\")\n",
    "plt.ylabel(\"Accuracy\")\n",
    "plt.title(\"Learning curve (TF-IDF + LinearSVC)\")\n",
    "plt.grid(True, alpha=0.3)\n",
    "plt.legend()\n",
    "plt.tight_layout()\n",
    "plt.show()\n"
   ]
  },
  {
   "cell_type": "code",
   "execution_count": 34,
   "id": "ce69ecfc",
   "metadata": {},
   "outputs": [
    {
     "name": "stdout",
     "output_type": "stream",
     "text": [
      "Holdout accuracy: 0.6870317002881844\n",
      "              precision    recall  f1-score   support\n",
      "\n",
      "        ENFJ       0.73      0.29      0.42        38\n",
      "        ENFP       0.73      0.62      0.67       135\n",
      "        ENTJ       0.68      0.37      0.48        46\n",
      "        ENTP       0.65      0.58      0.61       137\n",
      "        ESFJ       0.75      0.33      0.46         9\n",
      "        ESFP       0.00      0.00      0.00        10\n",
      "        ESTJ       1.00      0.12      0.22         8\n",
      "        ESTP       0.89      0.44      0.59        18\n",
      "        INFJ       0.72      0.75      0.73       294\n",
      "        INFP       0.65      0.86      0.74       366\n",
      "        INTJ       0.66      0.66      0.66       218\n",
      "        INTP       0.71      0.84      0.77       261\n",
      "        ISFJ       0.72      0.39      0.51        33\n",
      "        ISFP       0.76      0.35      0.48        54\n",
      "        ISTJ       0.80      0.39      0.52        41\n",
      "        ISTP       0.68      0.60      0.63        67\n",
      "\n",
      "    accuracy                           0.69      1735\n",
      "   macro avg       0.70      0.48      0.53      1735\n",
      "weighted avg       0.69      0.69      0.67      1735\n",
      "\n"
     ]
    }
   ],
   "source": [
    "# --- 7) train/test split + report --------------------------------------------\n",
    "X_train, X_test, y_train, y_test = train_test_split(\n",
    "    X, y, test_size=0.2, stratify=y, random_state=42\n",
    ")\n",
    "pipe.fit(X_train, y_train)\n",
    "pred = pipe.predict(X_test)\n",
    "\n",
    "print(\"Holdout accuracy:\", accuracy_score(y_test, pred))\n",
    "print(classification_report(y_test, pred, zero_division=0))\n"
   ]
  },
  {
   "cell_type": "code",
   "execution_count": 35,
   "id": "f9bf4744",
   "metadata": {},
   "outputs": [
    {
     "data": {
      "text/plain": [
       "array(['INFP', 'INTP'], dtype=object)"
      ]
     },
     "execution_count": 35,
     "metadata": {},
     "output_type": "execute_result"
    }
   ],
   "source": [
    "# --- 8) quick demo ------------------------------------------------------------\n",
    "samples = [\n",
    "    \"I love organizing plans and checking details before deciding. Structure calms me.\",\n",
    "    \"I jump from idea to idea and prefer brainstorming to routines.\"\n",
    "]\n",
    "pipe.predict([clean_text(s) for s in samples])\n"
   ]
  },
  {
   "cell_type": "code",
   "execution_count": 3,
   "id": "1c8e5854",
   "metadata": {},
   "outputs": [
    {
     "name": "stdout",
     "output_type": "stream",
     "text": [
      "✅ Synthetic datasets created:\n",
      " - Users.csv: (1000, 10)\n",
      " - Forum.csv: (10023, 10)\n"
     ]
    }
   ],
   "source": [
    "import numpy as np\n",
    "import pandas as pd\n",
    "from datetime import datetime, timedelta\n",
    "import random\n",
    "from pathlib import Path\n",
    "\n",
    "# Config\n",
    "N_USERS = 1000\n",
    "MAX_POSTS_PER_USER = 20\n",
    "START_DATE = datetime(2019, 1, 1)\n",
    "END_DATE = datetime.now()\n",
    "\n",
    "MBTI_TYPES = [\n",
    "    \"INTJ\",\"INTP\",\"ENTJ\",\"ENTP\",\n",
    "    \"INFJ\",\"INFP\",\"ENFJ\",\"ENFP\",\n",
    "    \"ISTJ\",\"ISFJ\",\"ESTJ\",\"ESFJ\",\n",
    "    \"ISTP\",\"ISFP\",\"ESTP\",\"ESFP\"\n",
    "]\n",
    "\n",
    "COUNTRIES = [\"US\",\"UK\",\"CA\",\"DE\",\"FR\",\"IN\",\"BR\",\"AU\",\"ZA\",\"JP\"]\n",
    "GENDERS = [\"Male\", \"Female\", \"Non-binary\", \"Prefer not to say\"]\n",
    "TOPICS = [\"careers\",\"relationships\",\"productivity\",\"gaming\",\"books\",\n",
    "          \"music\",\"movies\",\"travel\",\"food\",\"random\"]\n",
    "\n",
    "rng = np.random.default_rng(42)\n",
    "random.seed(42)\n",
    "\n",
    "def random_date(start, end):\n",
    "    delta = end - start\n",
    "    seconds = rng.integers(0, int(delta.total_seconds()))\n",
    "    return start + timedelta(seconds=int(seconds))\n",
    "\n",
    "# ---------- Create Users.csv ----------\n",
    "user_ids = [f\"U{str(i).zfill(5)}\" for i in range(1, N_USERS + 1)]\n",
    "users_df = pd.DataFrame({\n",
    "    \"user_id\": user_ids,\n",
    "    \"username\": [f\"user_{i:05d}\" for i in range(1, N_USERS + 1)],\n",
    "    \"type\": rng.choice(MBTI_TYPES, size=N_USERS),\n",
    "    \"age\": rng.integers(16, 71, size=N_USERS),\n",
    "    \"gender\": rng.choice(GENDERS, size=N_USERS, replace=True),\n",
    "    \"country\": rng.choice(COUNTRIES, size=N_USERS),\n",
    "    \"join_date\": [random_date(START_DATE, END_DATE).date().isoformat() for _ in range(N_USERS)],\n",
    "    \"posts_count\": rng.poisson(lam=12, size=N_USERS),\n",
    "    \"reputation\": rng.integers(0, 1000, size=N_USERS),\n",
    "    \"bio\": [f\"{random.choice(MBTI_TYPES)} | Loves {random.choice(TOPICS)}\" for _ in range(N_USERS)]\n",
    "})\n",
    "\n",
    "# ---------- Create Forum.csv ----------\n",
    "forum_rows = []\n",
    "post_id = 1\n",
    "for uid in user_ids:\n",
    "    n_posts = rng.integers(0, MAX_POSTS_PER_USER+1)\n",
    "    for _ in range(n_posts):\n",
    "        topic = random.choice(TOPICS)\n",
    "        created_at = random_date(START_DATE, END_DATE)\n",
    "        forum_rows.append({\n",
    "            \"post_id\": f\"P{post_id:07d}\",\n",
    "            \"user_id\": uid,\n",
    "            \"thread_id\": f\"T_{topic}_{rng.integers(0, 1000)}\",\n",
    "            \"created_at\": created_at.isoformat(timespec=\"seconds\"),\n",
    "            \"title\": f\"{topic.title()} discussion\",\n",
    "            \"message\": f\"This is a synthetic post about {topic}.\",\n",
    "            \"topic\": topic,\n",
    "            \"likes\": int(abs(rng.normal(5, 7))),\n",
    "            \"replies\": int(abs(rng.normal(2, 4))),\n",
    "            \"sentiment_score\": float(np.clip(rng.normal(0.0, 0.4), -1, 1))\n",
    "        })\n",
    "        post_id += 1\n",
    "\n",
    "forum_df = pd.DataFrame(forum_rows)\n",
    "\n",
    "# ---------- Save both ----------\n",
    "out_dir = Path(\".\")  # current folder\n",
    "users_df.to_csv(out_dir / \"Users.csv\", index=False)\n",
    "forum_df.to_csv(out_dir / \"Forum.csv\", index=False)\n",
    "\n",
    "print(\"✅ Synthetic datasets created:\")\n",
    "print(\" - Users.csv:\", users_df.shape)\n",
    "print(\" - Forum.csv:\", forum_df.shape)\n"
   ]
  },
  {
   "cell_type": "code",
   "execution_count": 5,
   "id": "ba43c7b9",
   "metadata": {},
   "outputs": [
    {
     "name": "stdout",
     "output_type": "stream",
     "text": [
      "File copied to current folder.\n"
     ]
    }
   ],
   "source": [
    "import shutil\n",
    "\n",
    "src = \"/Users/gres1/.cache/kagglehub/datasets/datasnaek/mbti-type/versions/1/mbti_1.csv\"\n",
    "dst = \"mbti_1.csv\"\n",
    "shutil.copy(src, dst)\n",
    "print(\"File copied to current folder.\")\n"
   ]
  },
  {
   "cell_type": "code",
   "execution_count": 6,
   "id": "59e7d025",
   "metadata": {},
   "outputs": [],
   "source": [
    "train = pd.read_csv(\"mbti_1.csv\")\n",
    "us = pd.read_csv(\"Users.csv\")\n",
    "ps = pd.read_csv(\"Forum.csv\")  # Forum.csv now exists\n",
    "\n",
    "ps[\"message\"] = ps[\"message\"].fillna(\"\")\n"
   ]
  },
  {
   "cell_type": "code",
   "execution_count": 8,
   "id": "80b44b45",
   "metadata": {},
   "outputs": [
    {
     "name": "stdout",
     "output_type": "stream",
     "text": [
      "CV accuracy (mean ± std): 0.0723 ± 0.0102\n"
     ]
    }
   ],
   "source": [
    "from sklearn.model_selection import StratifiedKFold, cross_val_score\n",
    "from sklearn.pipeline import Pipeline\n",
    "from sklearn.feature_extraction.text import TfidfVectorizer\n",
    "from sklearn.decomposition import TruncatedSVD\n",
    "from sklearn.ensemble import ExtraTreesClassifier\n",
    "\n",
    "# X = df[\"all_text\"].values ; y = df[\"type\"].values  (from your earlier step)\n",
    "\n",
    "pipe = Pipeline([\n",
    "    (\"tfidf\", TfidfVectorizer(\n",
    "        ngram_range=(1, 2),    # add bigrams to increase features\n",
    "        stop_words=\"english\",\n",
    "        max_df=0.95,\n",
    "        min_df=1              # allow rare terms so you get more features\n",
    "    )),\n",
    "    (\"tsvd\", TruncatedSVD(n_components=10, random_state=42)),  # <= 10 fits your case\n",
    "    (\"etc\",  ExtraTreesClassifier(n_estimators=200, max_depth=20, n_jobs=-1, random_state=42)),\n",
    "])\n",
    "\n",
    "kfolds = StratifiedKFold(n_splits=5, shuffle=True, random_state=1)\n",
    "scores = cross_val_score(pipe, X, y, cv=kfolds, scoring=\"accuracy\", n_jobs=-1)\n",
    "print(\"CV accuracy (mean ± std): {:.4f} ± {:.4f}\".format(scores.mean(), scores.std()))\n"
   ]
  },
  {
   "cell_type": "code",
   "execution_count": null,
   "id": "83068dff",
   "metadata": {},
   "outputs": [
    {
     "name": "stdout",
     "output_type": "stream",
     "text": [
      "CV accuracy (mean ± std): 0.0723 ± 0.0102\n"
     ]
    },
    {
     "name": "stderr",
     "output_type": "stream",
     "text": [
      "Exception ignored in: <function ResourceTracker.__del__ at 0x1059d1bc0>\n",
      "Traceback (most recent call last):\n",
      "  File \"/opt/anaconda3/lib/python3.13/multiprocessing/resource_tracker.py\", line 82, in __del__\n",
      "  File \"/opt/anaconda3/lib/python3.13/multiprocessing/resource_tracker.py\", line 91, in _stop\n",
      "  File \"/opt/anaconda3/lib/python3.13/multiprocessing/resource_tracker.py\", line 116, in _stop_locked\n",
      "ChildProcessError: [Errno 10] No child processes\n",
      "Exception ignored in: <function ResourceTracker.__del__ at 0x108865bc0>\n",
      "Traceback (most recent call last):\n",
      "  File \"/opt/anaconda3/lib/python3.13/multiprocessing/resource_tracker.py\", line 82, in __del__\n",
      "  File \"/opt/anaconda3/lib/python3.13/multiprocessing/resource_tracker.py\", line 91, in _stop\n",
      "  File \"/opt/anaconda3/lib/python3.13/multiprocessing/resource_tracker.py\", line 116, in _stop_locked\n",
      "ChildProcessError: [Errno 10] No child processes\n",
      "Exception ignored in: <function ResourceTracker.__del__ at 0x104af9bc0>\n",
      "Traceback (most recent call last):\n",
      "  File \"/opt/anaconda3/lib/python3.13/multiprocessing/resource_tracker.py\", line 82, in __del__\n",
      "  File \"/opt/anaconda3/lib/python3.13/multiprocessing/resource_tracker.py\", line 91, in _stop\n",
      "  File \"/opt/anaconda3/lib/python3.13/multiprocessing/resource_tracker.py\", line 116, in _stop_locked\n",
      "ChildProcessError: [Errno 10] No child processes\n",
      "Exception ignored in: <function ResourceTracker.__del__ at 0x105951bc0>\n",
      "Traceback (most recent call last):\n",
      "  File \"/opt/anaconda3/lib/python3.13/multiprocessing/resource_tracker.py\", line 82, in __del__\n",
      "  File \"/opt/anaconda3/lib/python3.13/multiprocessing/resource_tracker.py\", line 91, in _stop\n",
      "  File \"/opt/anaconda3/lib/python3.13/multiprocessing/resource_tracker.py\", line 116, in _stop_locked\n",
      "ChildProcessError: [Errno 10] No child processes\n",
      "Exception ignored in: <function ResourceTracker.__del__ at 0x106185bc0>\n",
      "Traceback (most recent call last):\n",
      "  File \"/opt/anaconda3/lib/python3.13/multiprocessing/resource_tracker.py\", line 82, in __del__\n",
      "  File \"/opt/anaconda3/lib/python3.13/multiprocessing/resource_tracker.py\", line 91, in _stop\n",
      "  File \"/opt/anaconda3/lib/python3.13/multiprocessing/resource_tracker.py\", line 116, in _stop_locked\n",
      "ChildProcessError: [Errno 10] No child processes\n",
      "Exception ignored in: <function ResourceTracker.__del__ at 0x105381bc0>\n",
      "Traceback (most recent call last):\n",
      "  File \"/opt/anaconda3/lib/python3.13/multiprocessing/resource_tracker.py\", line 82, in __del__\n",
      "  File \"/opt/anaconda3/lib/python3.13/multiprocessing/resource_tracker.py\", line 91, in _stop\n",
      "  File \"/opt/anaconda3/lib/python3.13/multiprocessing/resource_tracker.py\", line 116, in _stop_locked\n",
      "ChildProcessError: [Errno 10] No child processes\n",
      "Exception ignored in: <function ResourceTracker.__del__ at 0x103965bc0>\n",
      "Traceback (most recent call last):\n",
      "  File \"/opt/anaconda3/lib/python3.13/multiprocessing/resource_tracker.py\", line 82, in __del__\n",
      "  File \"/opt/anaconda3/lib/python3.13/multiprocessing/resource_tracker.py\", line 91, in _stop\n",
      "  File \"/opt/anaconda3/lib/python3.13/multiprocessing/resource_tracker.py\", line 116, in _stop_locked\n",
      "ChildProcessError: [Errno 10] No child processes\n"
     ]
    }
   ],
   "source": [
    "from sklearn.model_selection import StratifiedKFold, cross_val_score\n",
    "from sklearn.pipeline import Pipeline\n",
    "from sklearn.feature_extraction.text import TfidfVectorizer\n",
    "from sklearn.decomposition import TruncatedSVD\n",
    "from sklearn.ensemble import ExtraTreesClassifier\n",
    "\n",
    "pipe = Pipeline([\n",
    "    (\"tfidf\", TfidfVectorizer(\n",
    "        ngram_range=(1, 2),\n",
    "        stop_words=\"english\",\n",
    "        max_df=0.95,\n",
    "        min_df=1\n",
    "    )),\n",
    "    (\"tsvd\", TruncatedSVD(n_components=10, random_state=42)),  # must be <= features\n",
    "    (\"etc\", ExtraTreesClassifier(n_estimators=200, max_depth=20, n_jobs=-1, random_state=42)),\n",
    "])\n",
    "\n",
    "kfolds = StratifiedKFold(n_splits=5, shuffle=True, random_state=1)\n",
    "scores = cross_val_score(pipe, X, y, cv=kfolds, scoring=\"accuracy\", n_jobs=-1)\n",
    "print(\"CV accuracy (mean ± std): {:.4f} ± {:.4f}\".format(scores.mean(), scores.std()))\n"
   ]
  },
  {
   "cell_type": "code",
   "execution_count": 13,
   "id": "a04a9120",
   "metadata": {},
   "outputs": [
    {
     "name": "stdout",
     "output_type": "stream",
     "text": [
      "CV accuracy (mean ± std): 0.0723 ± 0.0215\n"
     ]
    }
   ],
   "source": [
    "import numpy as np\n",
    "import pandas as pd\n",
    "\n",
    "from sklearn.pipeline import Pipeline\n",
    "from sklearn.model_selection import StratifiedKFold, cross_val_score\n",
    "from sklearn.feature_extraction.text import TfidfVectorizer\n",
    "from sklearn.decomposition import TruncatedSVD\n",
    "from sklearn.ensemble import ExtraTreesClassifier\n",
    "from sklearn.base import BaseEstimator, TransformerMixin\n",
    "\n",
    "# ---- 1) Auto-capping SVD so it never exceeds TF-IDF feature count ----\n",
    "class AutoSVD(BaseEstimator, TransformerMixin):\n",
    "    def __init__(self, n_components=100, random_state=42):\n",
    "        self.n_components = n_components\n",
    "        self.random_state = random_state\n",
    "        self._svd = None\n",
    "        self.effective_components_ = None\n",
    "\n",
    "    def fit(self, X, y=None):\n",
    "        n_features = X.shape[1]\n",
    "        # choose a valid number of components (>=2 when possible)\n",
    "        if n_features <= 2:\n",
    "            self._svd = None\n",
    "            self.effective_components_ = n_features\n",
    "            return self\n",
    "        k = min(self.n_components, n_features - 1)\n",
    "        k = max(2, k)\n",
    "        self.effective_components_ = k\n",
    "        self._svd = TruncatedSVD(n_components=k, random_state=self.random_state)\n",
    "        self._svd.fit(X)\n",
    "        return self\n",
    "\n",
    "    def transform(self, X):\n",
    "        if self._svd is None:\n",
    "            # not enough features to reduce — just pass TF-IDF through\n",
    "            return X\n",
    "        return self._svd.transform(X)\n",
    "\n",
    "# ---- 2) Build a robust text pipeline ----\n",
    "pipe = Pipeline([\n",
    "    (\"tfidf\", TfidfVectorizer(\n",
    "        ngram_range=(1, 3),      # richer features so SVD has room\n",
    "        stop_words=\"english\",\n",
    "        min_df=1,                # keep rare tokens\n",
    "        max_df=0.98              # drop ultra-common tokens\n",
    "        # no max_features cap -> let vocab grow\n",
    "    )),\n",
    "    (\"svd\", AutoSVD(n_components=100, random_state=42)),  # auto-caps to valid size\n",
    "    (\"clf\", ExtraTreesClassifier(\n",
    "        n_estimators=200,\n",
    "        max_depth=20,\n",
    "        n_jobs=-1,\n",
    "        random_state=42\n",
    "    )),\n",
    "])\n",
    "\n",
    "# ---- 3) X, y from your earlier prep ----\n",
    "# X = df[\"all_text\"].values\n",
    "# y = df[\"type\"].values\n",
    "\n",
    "# ---- 4) Safe StratifiedKFold (don’t ask for more folds than smallest class) ----\n",
    "min_class = pd.Series(y).value_counts().min()\n",
    "n_splits = int(max(2, min(5, min_class)))\n",
    "kfolds = StratifiedKFold(n_splits=n_splits, shuffle=True, random_state=1)\n",
    "\n",
    "# ---- 5) Cross-validate ----\n",
    "scores = cross_val_score(pipe, X, y, cv=kfolds, scoring=\"accuracy\", n_jobs=-1)\n",
    "print(\"CV accuracy (mean ± std): {:.4f} ± {:.4f}\".format(scores.mean(), scores.std()))\n"
   ]
  },
  {
   "cell_type": "code",
   "execution_count": null,
   "id": "8e2a0202",
   "metadata": {},
   "outputs": [],
   "source": [
    "def cleanText(text):\n",
    "    text= BeautifulSoup(text, \"lxml\").text\n",
    "    text<re.sub(r\"\")"
   ]
  },
  {
   "cell_type": "code",
   "execution_count": 16,
   "id": "afb98d6e",
   "metadata": {},
   "outputs": [],
   "source": [
    " import re\n",
    "from bs4 import BeautifulSoup\n",
    "\n",
    "def cleanText(text):\n",
    "    # Remove HTML tags\n",
    "    text = BeautifulSoup(text, 'lxml').get_text()\n",
    "\n",
    "    # Remove non-alphabetic characters except spaces\n",
    "    text = re.sub(r'[^a-zA-Z\\s]', ' ', text)\n",
    "\n",
    "    # Replace URLs with <URL>\n",
    "    text = re.sub(r'http\\S+', '<URL>', text)\n",
    "\n",
    "    # Collapse multiple spaces\n",
    "    text = re.sub(r'\\s+', ' ', text).strip()\n",
    "\n",
    "    return text\n"
   ]
  },
  {
   "cell_type": "code",
   "execution_count": 20,
   "id": "d991f4ed",
   "metadata": {},
   "outputs": [
    {
     "data": {
      "image/png": "[encoded data removed]",
      "text/plain": [
       "<Figure size 800x600 with 1 Axes>"
      ]
     },
     "metadata": {},
     "output_type": "display_data"
    }
   ],
   "source": [
    "import numpy as np\n",
    "import matplotlib.pyplot as plt\n",
    "from sklearn.model_selection import learning_curve, StratifiedKFold\n",
    "from sklearn.feature_extraction.text import TfidfVectorizer\n",
    "from sklearn.pipeline import Pipeline\n",
    "from sklearn.ensemble import ExtraTreesClassifier\n",
    "\n",
    "# ---- Learning curve plotting function ----\n",
    "def plot_learning_curve(estimator, X, y, title='Learning Curve', ylim=None, cv=None, n_jobs=-1, train_sizes=np.linspace(0.1, 1.0, 5)):\n",
    "    plt.figure(figsize=(8, 6))\n",
    "    plt.title(title)\n",
    "\n",
    "    if ylim is not None:\n",
    "        plt.ylim(*ylim)\n",
    "\n",
    "    plt.xlabel(\"Training examples\")\n",
    "    plt.ylabel(\"Score\")\n",
    "    plt.grid()\n",
    "\n",
    "    # Get learning curve data\n",
    "    train_sizes, train_scores, test_scores = learning_curve(\n",
    "        estimator, X, y, cv=cv, n_jobs=n_jobs, train_sizes=train_sizes\n",
    "    )\n",
    "\n",
    "    # Means and stds\n",
    "    train_scores_mean = np.mean(train_scores, axis=1)\n",
    "    train_scores_std = np.std(train_scores, axis=1)\n",
    "    test_scores_mean = np.mean(test_scores, axis=1)\n",
    "    test_scores_std = np.std(test_scores, axis=1)\n",
    "\n",
    "    # Shaded areas\n",
    "    plt.fill_between(train_sizes, train_scores_mean - train_scores_std,\n",
    "                     train_scores_mean + train_scores_std, alpha=0.1, color=\"r\")\n",
    "    plt.fill_between(train_sizes, test_scores_mean - test_scores_std,\n",
    "                     test_scores_mean + test_scores_std, alpha=0.1, color=\"g\")\n",
    "\n",
    "    # Lines with labels\n",
    "    plt.plot(train_sizes, train_scores_mean, 'o-', color=\"r\", label=\"Training score\")\n",
    "    plt.plot(train_sizes, test_scores_mean, 'o-', color=\"g\", label=\"Cross-validation score\")\n",
    "\n",
    "    plt.legend(loc=\"best\")\n",
    "    plt.show()\n",
    "\n",
    "\n",
    "# ---- Example MBTI pipeline ----\n",
    "pipe = Pipeline([\n",
    "    (\"tfidf\", TfidfVectorizer(\n",
    "        ngram_range=(1, 2),\n",
    "        stop_words=\"english\",\n",
    "        max_features=5000\n",
    "    )),\n",
    "    (\"etc\", ExtraTreesClassifier(\n",
    "        n_estimators=200,\n",
    "        max_depth=20,\n",
    "        n_jobs=-1,\n",
    "        random_state=42\n",
    "    ))\n",
    "])\n",
    "\n",
    "# ---- CV setup ----\n",
    "cv = StratifiedKFold(n_splits=5, shuffle=True, random_state=1)\n",
    "\n",
    "# ---- Run learning curve plot ----\n",
    "plot_learning_curve(pipe, X, y, title=\"MBTI Classifier Learning Curve\", cv=cv)\n"
   ]
  },
  {
   "cell_type": "markdown",
   "id": "acbfacd1",
   "metadata": {},
   "source": [
    "Generating Synthetic Users/Forum "
   ]
  },
  {
   "cell_type": "code",
   "execution_count": 21,
   "id": "1c2508ce",
   "metadata": {},
   "outputs": [
    {
     "name": "stdout",
     "output_type": "stream",
     "text": [
      "Found existing Users.csv and Forum.csv\n"
     ]
    }
   ],
   "source": [
    "def ensure_synthetic_users_forum(users_path=\"Users.csv\", forum_path=\"Forum.csv\",\n",
    "                                 n_users=1000, max_posts_per_user=20, seed=42):\n",
    "    users_p = Path(users_path)\n",
    "    forum_p = Path(forum_path)\n",
    "    if users_p.exists() and forum_p.exists():\n",
    "        print(\"Found existing Users.csv and Forum.csv\")\n",
    "        return\n",
    "\n",
    "    print(\"Creating synthetic Users.csv and Forum.csv ...\")\n",
    "    rng = np.random.default_rng(seed)\n",
    "    import random\n",
    "    random.seed(seed)\n",
    "\n",
    "    MBTI = [\"INTJ\",\"INTP\",\"ENTJ\",\"ENTP\",\"INFJ\",\"INFP\",\"ENFJ\",\"ENFP\",\n",
    "            \"ISTJ\",\"ISFJ\",\"ESTJ\",\"ESFJ\",\"ISTP\",\"ISFP\",\"ESTP\",\"ESFP\"]\n",
    "    TOPICS = [\"careers\",\"relationships\",\"productivity\",\"gaming\",\"books\",\n",
    "              \"music\",\"movies\",\"travel\",\"food\",\"random\"]\n",
    "\n",
    "    from datetime import datetime, timedelta\n",
    "    START_DATE = datetime(2019,1,1); END_DATE = datetime.now()\n",
    "    def rdate():\n",
    "        delta = END_DATE - START_DATE\n",
    "        return START_DATE + timedelta(seconds=int(rng.integers(0, delta.total_seconds())))\n",
    "\n",
    "    # Users\n",
    "    user_ids = [f\"U{i:05d}\" for i in range(1, n_users+1)]\n",
    "    users_df = pd.DataFrame({\n",
    "        \"user_id\": user_ids,\n",
    "        \"username\": [f\"user_{i:05d}\" for i in range(1, n_users+1)],\n",
    "        \"type\": rng.choice(MBTI, size=n_users),\n",
    "        \"age\": rng.integers(16, 71, size=n_users),\n",
    "        \"country\": rng.choice([\"US\",\"UK\",\"CA\",\"DE\",\"FR\",\"IN\",\"BR\",\"AU\",\"ZA\",\"JP\"], size=n_users),\n",
    "        \"join_date\": [rdate().date().isoformat() for _ in range(n_users)]\n",
    "    })\n",
    "\n",
    "    # Forum\n",
    "    rows = []\n",
    "    pid = 1\n",
    "    for uid in user_ids:\n",
    "        n_posts = int(rng.integers(0, max_posts_per_user+1))\n",
    "        for _ in range(n_posts):\n",
    "            topic = random.choice(TOPICS)\n",
    "            rows.append({\n",
    "                \"post_id\": f\"P{pid:07d}\",\n",
    "                \"user_id\": uid,\n",
    "                \"thread_id\": f\"T_{topic}_{rng.integers(0,1000)}\",\n",
    "                \"created_at\": rdate().isoformat(timespec=\"seconds\"),\n",
    "                \"title\": f\"{topic.title()} discussion\",\n",
    "                \"message\": f\"As a {random.choice(MBTI)} I think about {topic} a lot. Any tips?\",\n",
    "                \"topic\": topic\n",
    "            })\n",
    "            pid += 1\n",
    "    forum_df = pd.DataFrame(rows)\n",
    "\n",
    "    users_df.to_csv(users_p, index=False)\n",
    "    forum_df.to_csv(forum_p, index=False)\n",
    "    print(f\"Wrote {users_p.resolve()} shape={users_df.shape}\")\n",
    "    print(f\"Wrote {forum_p.resolve()} shape={forum_df.shape}\")\n",
    "\n",
    "ensure_synthetic_users_forum()\n"
   ]
  },
  {
   "cell_type": "code",
   "execution_count": 22,
   "id": "819bafef",
   "metadata": {},
   "outputs": [
    {
     "name": "stdout",
     "output_type": "stream",
     "text": [
      "Samples: 954  | Classes: 16\n",
      "ENTJ    75\n",
      "ENFP    69\n",
      "INTP    69\n",
      "ISTP    67\n",
      "ESTJ    65\n",
      "Name: count, dtype: int64\n"
     ]
    }
   ],
   "source": [
    "# Load\n",
    "us = pd.read_csv(\"Users.csv\")\n",
    "ps = pd.read_csv(\"Forum.csv\")\n",
    "\n",
    "# Clean + aggregate messages per user\n",
    "def clean_text(s: str) -> str:\n",
    "    s = str(s).lower()\n",
    "    s = re.sub(r\"https?://\\S+|www\\.\\S+\", \" <url> \", s)\n",
    "    s = re.sub(r\"[^a-z\\s]\", \" \", s)\n",
    "    s = re.sub(r\"\\s+\", \" \", s).strip()\n",
    "    return s\n",
    "\n",
    "ps[\"message\"] = ps[\"message\"].fillna(\"\").map(clean_text)\n",
    "\n",
    "# Concatenate all messages per user\n",
    "ps_join = (ps.groupby(\"user_id\")[\"message\"]\n",
    "             .agg(lambda col: \" \".join(col))\n",
    "             .reset_index()\n",
    "             .rename(columns={\"message\":\"all_text\"}))\n",
    "\n",
    "# Join labels\n",
    "df = ps_join.merge(us[[\"user_id\",\"type\"]], on=\"user_id\", how=\"inner\")\n",
    "df = df[(df[\"all_text\"].str.len() > 0) & df[\"type\"].notna()].copy()\n",
    "\n",
    "X = df[\"all_text\"].values\n",
    "y = df[\"type\"].values\n",
    "\n",
    "print(\"Samples:\", len(X), \" | Classes:\", pd.Series(y).nunique())\n",
    "print(pd.Series(y).value_counts().sort_values(ascending=False).head())\n"
   ]
  },
  {
   "cell_type": "code",
   "execution_count": 24,
   "id": "ee9e03f0",
   "metadata": {},
   "outputs": [
    {
     "name": "stdout",
     "output_type": "stream",
     "text": [
      "954 samples across 16 classes\n"
     ]
    }
   ],
   "source": [
    "# If you already created df with columns all_text/type, skip this.\n",
    "X = df[\"all_text\"].values\n",
    "y = df[\"type\"].values\n",
    "print(len(X), \"samples across\", len(set(y)), \"classes\")\n"
   ]
  },
  {
   "cell_type": "code",
   "execution_count": 25,
   "id": "234a0567",
   "metadata": {},
   "outputs": [
    {
     "data": {
      "image/png": "[encoded data removed]",
      "text/plain": [
       "<Figure size 800x600 with 1 Axes>"
      ]
     },
     "metadata": {},
     "output_type": "display_data"
    }
   ],
   "source": [
    "from sklearn.model_selection import StratifiedKFold\n",
    "from sklearn.pipeline import Pipeline\n",
    "from sklearn.feature_extraction.text import TfidfVectorizer\n",
    "from sklearn.ensemble import ExtraTreesClassifier\n",
    "\n",
    "pipe = Pipeline([\n",
    "    (\"tfidf\", TfidfVectorizer(ngram_range=(1,2), stop_words=\"english\",\n",
    "                              min_df=1, max_df=0.98)),\n",
    "    (\"clf\", ExtraTreesClassifier(n_estimators=300, n_jobs=-1, random_state=42))\n",
    "])\n",
    "\n",
    "min_class = pd.Series(y).value_counts().min()\n",
    "cv = StratifiedKFold(n_splits=max(2, min(5, int(min_class))), shuffle=True, random_state=42)\n",
    "\n",
    "plot_learning_curve(pipe, X, y, title=\"MBTI (Users↔Forum) Learning Curve\", cv=cv)\n"
   ]
  },
  {
   "cell_type": "code",
   "execution_count": 26,
   "id": "b33bd301",
   "metadata": {},
   "outputs": [
    {
     "name": "stdout",
     "output_type": "stream",
     "text": [
      "Classification report:\n",
      "\n",
      "              precision    recall  f1-score   support\n",
      "\n",
      "        ENFJ       0.14      0.10      0.12        10\n",
      "        ENFP       0.18      0.29      0.22        14\n",
      "        ENTJ       0.17      0.20      0.18        15\n",
      "        ENTP       0.08      0.11      0.09         9\n",
      "        ESFJ       0.00      0.00      0.00        12\n",
      "        ESFP       0.00      0.00      0.00        12\n",
      "        ESTJ       0.09      0.08      0.08        13\n",
      "        ESTP       0.22      0.18      0.20        11\n",
      "        INFJ       0.00      0.00      0.00        11\n",
      "        INFP       0.00      0.00      0.00        10\n",
      "        INTJ       0.00      0.00      0.00        11\n",
      "        INTP       0.00      0.00      0.00        14\n",
      "        ISFJ       0.33      0.25      0.29        12\n",
      "        ISFP       0.00      0.00      0.00        12\n",
      "        ISTJ       0.00      0.00      0.00        12\n",
      "        ISTP       0.20      0.23      0.21        13\n",
      "\n",
      "    accuracy                           0.09       191\n",
      "   macro avg       0.09      0.09      0.09       191\n",
      "weighted avg       0.09      0.09      0.09       191\n",
      "\n"
     ]
    },
    {
     "data": {
      "image/png": "[encoded data removed]",
      "text/plain": [
       "<Figure size 1000x800 with 2 Axes>"
      ]
     },
     "metadata": {},
     "output_type": "display_data"
    }
   ],
   "source": [
    "from sklearn.model_selection import train_test_split\n",
    "from sklearn.metrics import classification_report, confusion_matrix\n",
    "import seaborn as sns\n",
    "import matplotlib.pyplot as plt\n",
    "import numpy as np\n",
    "\n",
    "Xtr, Xte, ytr, yte = train_test_split(X, y, test_size=0.2, stratify=y, random_state=42)\n",
    "pipe.fit(Xtr, ytr)\n",
    "pred = pipe.predict(Xte)\n",
    "\n",
    "print(\"Classification report:\\n\")\n",
    "print(classification_report(yte, pred, zero_division=0))\n",
    "\n",
    "cm = confusion_matrix(yte, pred, labels=sorted(pd.unique(y)))\n",
    "plt.figure(figsize=(10,8))\n",
    "sns.heatmap(cm, annot=False, fmt=\"d\",\n",
    "            xticklabels=sorted(pd.unique(y)),\n",
    "            yticklabels=sorted(pd.unique(y)))\n",
    "plt.xlabel(\"Predicted\")\n",
    "plt.ylabel(\"True\")\n",
    "plt.title(\"Confusion Matrix\")\n",
    "plt.tight_layout()\n",
    "plt.show()\n"
   ]
  },
  {
   "cell_type": "code",
   "execution_count": 27,
   "id": "bd025cb8",
   "metadata": {},
   "outputs": [
    {
     "name": "stdout",
     "output_type": "stream",
     "text": [
      "Saved to learning_curve.png\n"
     ]
    },
    {
     "data": {
      "text/plain": [
       "<Figure size 640x480 with 0 Axes>"
      ]
     },
     "metadata": {},
     "output_type": "display_data"
    }
   ],
   "source": [
    "plt.savefig(\"learning_curve.png\", dpi=200, bbox_inches=\"tight\")\n",
    "print(\"Saved to learning_curve.png\")\n"
   ]
  },
  {
   "cell_type": "markdown",
   "id": "b7a504b7",
   "metadata": {},
   "source": [
    "Train and Test Splitting the data"
   ]
  },
  {
   "cell_type": "code",
   "execution_count": 34,
   "id": "fb9cd8c1",
   "metadata": {},
   "outputs": [
    {
     "data": {
      "image/png": "[encoded data removed]",
      "text/plain": [
       "<Figure size 1200x600 with 1 Axes>"
      ]
     },
     "metadata": {},
     "output_type": "display_data"
    }
   ],
   "source": [
    "from sklearn.model_selection import train_test_split\n",
    "import numpy as np\n",
    "import pandas as pd\n",
    "import matplotlib.pyplot as plt\n",
    "import seaborn as sns\n",
    "\n",
    "# Assuming your dataset has 'posts' (text) and 'type' (label)\n",
    "X_train, X_test, y_train, y_test = train_test_split(\n",
    "    train[\"posts\"],  # or whatever your text column is called\n",
    "    train[\"type\"],   # personality labels\n",
    "    test_size=0.2,\n",
    "    random_state=42,\n",
    "    stratify=train[\"type\"]  # keeps label proportions\n",
    ")\n",
    "\n",
    "# Fit the pipeline\n",
    "pipe.fit(X_train, y_train)\n",
    "\n",
    "# Predictions on test set\n",
    "pred_all = pipe.predict(X_test)\n",
    "\n",
    "# Count occurrences\n",
    "labels, counts = np.unique(pred_all, return_counts=True)\n",
    "pred_df = pd.DataFrame(\n",
    "    {\"personality\": labels, \"count\": counts}\n",
    ").sort_values(\"count\", ascending=False, ignore_index=True)\n",
    "\n",
    "# Plot\n",
    "plt.figure(figsize=(12, 6))\n",
    "sns.barplot(data=pred_df, x=\"personality\", y=\"count\", alpha=0.9)\n",
    "plt.ylabel(\"Number of occurrences\", fontsize=12)\n",
    "plt.xlabel(\"Personality\", fontsize=12)\n",
    "plt.xticks(rotation=45, ha=\"right\")\n",
    "plt.tight_layout()\n",
    "plt.show()\n"
   ]
  },
  {
   "cell_type": "markdown",
   "id": "32bb1070",
   "metadata": {},
   "source": [
    "Defining the Pipeline"
   ]
  },
  {
   "cell_type": "code",
   "execution_count": 35,
   "id": "534ff94b",
   "metadata": {},
   "outputs": [
    {
     "data": {
      "image/png": "[encoded data removed]",
      "text/plain": [
       "<Figure size 1200x600 with 1 Axes>"
      ]
     },
     "metadata": {},
     "output_type": "display_data"
    }
   ],
   "source": [
    "# Assuming you have X_test and your fitted pipeline is named `pipe`\n",
    "pred_all = pipe.predict(X_test)\n",
    "\n",
    "# Now do the counting and plotting\n",
    "labels, counts = np.unique(pred_all, return_counts=True)\n",
    "\n",
    "pred_df = pd.DataFrame(\n",
    "    {\"personality\": labels, \"count\": counts}\n",
    ").sort_values(\"count\", ascending=False, ignore_index=True)\n",
    "\n",
    "plt.figure(figsize=(12, 6))\n",
    "sns.barplot(data=pred_df, x=\"personality\", y=\"count\", alpha=0.9)\n",
    "plt.ylabel(\"Number of occurrences\", fontsize=12)\n",
    "plt.xlabel(\"Personality\", fontsize=12)\n",
    "plt.xticks(rotation=45, ha=\"right\")\n",
    "plt.tight_layout()\n",
    "plt.show()\n"
   ]
  },
  {
   "cell_type": "code",
   "execution_count": 36,
   "id": "38d76e15",
   "metadata": {},
   "outputs": [
    {
     "data": {
      "text/html": [
       "<div>\n",
       "<style scoped>\n",
       "    .dataframe tbody tr th:only-of-type {\n",
       "        vertical-align: middle;\n",
       "    }\n",
       "\n",
       "    .dataframe tbody tr th {\n",
       "        vertical-align: top;\n",
       "    }\n",
       "\n",
       "    .dataframe thead th {\n",
       "        text-align: right;\n",
       "    }\n",
       "</style>\n",
       "<table border=\"1\" class=\"dataframe\">\n",
       "  <thead>\n",
       "    <tr style=\"text-align: right;\">\n",
       "      <th></th>\n",
       "      <th>personality</th>\n",
       "      <th>count</th>\n",
       "      <th>percent</th>\n",
       "      <th>description</th>\n",
       "    </tr>\n",
       "  </thead>\n",
       "  <tbody>\n",
       "    <tr>\n",
       "      <th>0</th>\n",
       "      <td>INFP</td>\n",
       "      <td>1141</td>\n",
       "      <td>0.657637</td>\n",
       "      <td>The Mediator – idealistic and empathetic</td>\n",
       "    </tr>\n",
       "    <tr>\n",
       "      <th>1</th>\n",
       "      <td>INTP</td>\n",
       "      <td>255</td>\n",
       "      <td>0.146974</td>\n",
       "      <td>The Thinker – analytical and objective</td>\n",
       "    </tr>\n",
       "    <tr>\n",
       "      <th>2</th>\n",
       "      <td>INFJ</td>\n",
       "      <td>208</td>\n",
       "      <td>0.119885</td>\n",
       "      <td>The Advocate – insightful and principled</td>\n",
       "    </tr>\n",
       "    <tr>\n",
       "      <th>3</th>\n",
       "      <td>INTJ</td>\n",
       "      <td>90</td>\n",
       "      <td>0.051873</td>\n",
       "      <td>The Mastermind – strategic and logical thinkers</td>\n",
       "    </tr>\n",
       "    <tr>\n",
       "      <th>4</th>\n",
       "      <td>ENTP</td>\n",
       "      <td>22</td>\n",
       "      <td>0.012680</td>\n",
       "      <td>The Debater – curious and energetic</td>\n",
       "    </tr>\n",
       "    <tr>\n",
       "      <th>5</th>\n",
       "      <td>ENFP</td>\n",
       "      <td>19</td>\n",
       "      <td>0.010951</td>\n",
       "      <td>The Campaigner – enthusiastic and imaginative</td>\n",
       "    </tr>\n",
       "  </tbody>\n",
       "</table>\n",
       "</div>"
      ],
      "text/plain": [
       "  personality  count   percent  \\\n",
       "0        INFP   1141  0.657637   \n",
       "1        INTP    255  0.146974   \n",
       "2        INFJ    208  0.119885   \n",
       "3        INTJ     90  0.051873   \n",
       "4        ENTP     22  0.012680   \n",
       "5        ENFP     19  0.010951   \n",
       "\n",
       "                                       description  \n",
       "0         The Mediator – idealistic and empathetic  \n",
       "1           The Thinker – analytical and objective  \n",
       "2         The Advocate – insightful and principled  \n",
       "3  The Mastermind – strategic and logical thinkers  \n",
       "4              The Debater – curious and energetic  \n",
       "5    The Campaigner – enthusiastic and imaginative  "
      ]
     },
     "execution_count": 36,
     "metadata": {},
     "output_type": "execute_result"
    }
   ],
   "source": [
    "# Add percentage column\n",
    "pred_df[\"percent\"] = pred_df[\"count\"] / pred_df[\"count\"].sum()\n",
    "\n",
    "# Map MBTI type to description\n",
    "mbti_descriptions = {\n",
    "    \"INTJ\": \"The Mastermind – strategic and logical thinkers\",\n",
    "    \"INTP\": \"The Thinker – analytical and objective\",\n",
    "    \"ENTJ\": \"The Commander – bold and driven leaders\",\n",
    "    \"ENTP\": \"The Debater – curious and energetic\",\n",
    "    \"INFJ\": \"The Advocate – insightful and principled\",\n",
    "    \"INFP\": \"The Mediator – idealistic and empathetic\",\n",
    "    \"ENFJ\": \"The Protagonist – charismatic and inspiring\",\n",
    "    \"ENFP\": \"The Campaigner – enthusiastic and imaginative\",\n",
    "    \"ISTJ\": \"The Inspector – dependable and practical\",\n",
    "    \"ISFJ\": \"The Nurturer – caring and responsible\",\n",
    "    \"ESTJ\": \"The Executive – organized and direct\",\n",
    "    \"ESFJ\": \"The Provider – supportive and social\",\n",
    "    \"ISTP\": \"The Virtuoso – adaptable and hands-on\",\n",
    "    \"ISFP\": \"The Adventurer – artistic and gentle\",\n",
    "    \"ESTP\": \"The Dynamo – energetic and perceptive\",\n",
    "    \"ESFP\": \"The Performer – fun-loving and spontaneous\",\n",
    "}\n",
    "\n",
    "# Add description column\n",
    "pred_df[\"description\"] = pred_df[\"personality\"].apply(\n",
    "    lambda p: mbti_descriptions.get(p, \"Unknown type\")\n",
    ")\n",
    "\n",
    "pred_df\n"
   ]
  },
  {
   "cell_type": "markdown",
   "id": "fc20d946",
   "metadata": {},
   "source": [
    "My Personal MBTI Score "
   ]
  },
  {
   "cell_type": "code",
   "execution_count": 37,
   "id": "da85a914",
   "metadata": {},
   "outputs": [
    {
     "data": {
      "text/plain": [
       "'INTP'"
      ]
     },
     "execution_count": 37,
     "metadata": {},
     "output_type": "execute_result"
    }
   ],
   "source": [
    "import pandas as pd\n",
    "from sklearn.feature_extraction.text import TfidfVectorizer\n",
    "from sklearn.pipeline import Pipeline\n",
    "from sklearn.linear_model import LogisticRegression\n",
    "\n",
    "# Sample training data (tiny illustrative subset for MBTI prediction)\n",
    "data = [\n",
    "    (\"I like spending time alone, thinking about ideas and theories\", \"INTP\"),\n",
    "    (\"I love meeting new people and going to parties\", \"ENFP\"),\n",
    "    (\"I prefer making decisions based on facts and logic\", \"ISTJ\"),\n",
    "    (\"I often rely on my gut feeling and emotions\", \"ENFJ\"),\n",
    "    (\"I am spontaneous and flexible with my plans\", \"ISFP\"),\n",
    "    (\"I enjoy creating long-term plans and sticking to them\", \"ENTJ\"),\n",
    "    (\"I like reading about psychology, AI, and space\", \"INTP\"),\n",
    "    (\"I work well in a calm and controlled environment\", \"ISTP\"),\n",
    "]\n",
    "\n",
    "df = pd.DataFrame(data, columns=[\"text\", \"type\"])\n",
    "\n",
    "# Define a simple pipeline\n",
    "pipe = Pipeline([\n",
    "    (\"tfidf\", TfidfVectorizer(ngram_range=(1, 2))),\n",
    "    (\"clf\", LogisticRegression(max_iter=1000))\n",
    "])\n",
    "\n",
    "# Train the model\n",
    "pipe.fit(df[\"text\"], df[\"type\"])\n",
    "\n",
    "# Your answers as a single input string\n",
    "user_text = \"\"\"\n",
    "depends , but mostly alone or with a small group , its more calm and controlled, \n",
    "there is better things in life than getting wasted. depends all what we are talking about mostly data \n",
    "gut just keeps me going with the decision. flexible and spontaneous, I just know what I have to do and ill do it. \n",
    "im calm mostly not interested. science, psychology, finance business , ai and cyber , Pharma and meds , \n",
    "spirituality, and space\n",
    "\"\"\"\n",
    "\n",
    "# Predict\n",
    "predicted_type = pipe.predict([user_text])[0]\n",
    "predicted_type\n"
   ]
  },
  {
   "cell_type": "code",
   "execution_count": 38,
   "id": "41bf5803",
   "metadata": {},
   "outputs": [
    {
     "name": "stdout",
     "output_type": "stream",
     "text": [
      "Predicted type: INTP\n",
      "INTP ~ 3.3% of population (≈ 1 in 30).\n"
     ]
    },
    {
     "data": {
      "image/png": "[encoded data removed]",
      "text/plain": [
       "<Figure size 1200x600 with 1 Axes>"
      ]
     },
     "metadata": {},
     "output_type": "display_data"
    }
   ],
   "source": [
    "# --- MBTI rarity + lightweight predictor (no external installs needed) ---\n",
    "\n",
    "import re\n",
    "from collections import defaultdict\n",
    "\n",
    "# ===== 1) General-population MBTI frequencies (rough global estimates, %)\n",
    "MBTI_FREQ = {\n",
    "    \"ISTJ\": 11.6, \"ISFJ\": 13.8, \"INFJ\": 1.5, \"INTJ\": 2.1,\n",
    "    \"ISTP\": 5.4,  \"ISFP\": 8.8,  \"INFP\": 4.4, \"INTP\": 3.3,\n",
    "    \"ESTP\": 4.3,  \"ESFP\": 8.5,  \"ENFP\": 8.1, \"ENTP\": 3.2,\n",
    "    \"ESTJ\": 8.7,  \"ESFJ\": 12.3, \"ENFJ\": 2.5, \"ENTJ\": 1.8\n",
    "}\n",
    "\n",
    "# ===== 2) Very simple text cleaner\n",
    "def clean_text(s: str) -> str:\n",
    "    s = s.lower()\n",
    "    s = re.sub(r\"https?://\\S+|www\\.\\S+\", \" \", s)\n",
    "    s = re.sub(r\"[^a-z\\s]\", \" \", s)\n",
    "    s = re.sub(r\"\\s+\", \" \", s).strip()\n",
    "    return s\n",
    "\n",
    "# ===== 3) Ultra-light heuristic scorer (keywords for each dichotomy)\n",
    "KEYS = {\n",
    "    \"E\": [\"party\",\"people\",\"social\",\"network\",\"team\",\"outgoing\",\"talk\",\"crowd\",\"meet\"],\n",
    "    \"I\": [\"alone\",\"solo\",\"quiet\",\"calm\",\"introvert\",\"small group\",\"by myself\",\"independent\"],\n",
    "    \"S\": [\"practical\",\"details\",\"facts\",\"concrete\",\"experience\",\"realistic\",\"hands on\",\"step by step\"],\n",
    "    \"N\": [\"idea\",\"theory\",\"abstract\",\"pattern\",\"concept\",\"imagine\",\"future\",\"possibility\",\"ai\",\"space\",\"psychology\",\"philosophy\",\"spiritual\"],\n",
    "    \"T\": [\"logic\",\"data\",\"analyze\",\"objective\",\"rational\",\"truth\",\"debate\",\"evaluate\",\"metrics\",\"finance\",\"cyber\"],\n",
    "    \"F\": [\"feel\",\"values\",\"empathy\",\"harmony\",\"care\",\"support\",\"people\",\"relationship\",\"compassion\"],\n",
    "    \"J\": [\"plan\",\"schedule\",\"organize\",\"structure\",\"deadline\",\"decide\",\"list\",\"routine\"],\n",
    "    \"P\": [\"spontaneous\",\"flexible\",\"adapt\",\"explore\",\"open ended\",\"improvise\",\"curious\",\"variety\"]\n",
    "}\n",
    "\n",
    "def score_axis(text, pos_keys, neg_keys):\n",
    "    t = \" \" + text + \" \"\n",
    "    sc_pos = sum(t.count(\" \"+k+\" \") for k in pos_keys)\n",
    "    sc_neg = sum(t.count(\" \"+k+\" \") for k in neg_keys)\n",
    "    return (\"pos\", sc_pos) if sc_pos >= sc_neg else (\"neg\", sc_neg)\n",
    "\n",
    "def guess_mbti(text: str):\n",
    "    t = clean_text(text)\n",
    "    # Count keyword hits\n",
    "    hits = defaultdict(int)\n",
    "    for k, words in KEYS.items():\n",
    "        for w in words:\n",
    "            if f\" {w} \" in f\" {t} \":\n",
    "                hits[k] += 1\n",
    "\n",
    "    # Decide each axis; allow some manual nudges by presence of certain phrases\n",
    "    E = \"I\" if hits[\"I\"] >= hits[\"E\"] else \"E\"\n",
    "    N = \"N\" if hits[\"N\"] >= hits[\"S\"] else \"S\"\n",
    "    T = \"T\" if hits[\"T\"] >= hits[\"F\"] else \"F\"\n",
    "    P = \"P\" if hits[\"P\"] >= hits[\"J\"] else \"J\"\n",
    "\n",
    "    # tie-break nudges\n",
    "    if \"small group\" in t or \"alone\" in t: E = \"I\"\n",
    "    if \"spontaneous\" in t or \"flexible\" in t: P = \"P\"\n",
    "    if \"data\" in t or \"logic\" in t or \"truth\" in t: T = \"T\"\n",
    "    if any(k in t for k in [\"ai\",\"space\",\"psychology\",\"theory\",\"abstract\"]): N = \"N\"\n",
    "\n",
    "    return E+N+T+P, dict(hits)\n",
    "\n",
    "# ===== 4) Rarity helper\n",
    "def rarity_line(mbti_type: str):\n",
    "    if mbti_type in MBTI_FREQ:\n",
    "        pct = MBTI_FREQ[mbti_type]\n",
    "        approx = max(1, round(100 / pct))\n",
    "        return f\"{mbti_type} ~ {pct}% of population (≈ 1 in {approx}).\"\n",
    "    return f\"{mbti_type}: no global frequency on file.\"\n",
    "\n",
    "# ===== 5) Run on your text (edit `user_text` or input interactively)\n",
    "user_text = \"\"\"depends , but mostly alone or with a small group , its more calm and controlled,\n",
    "there is better things in life than getting wasted. mostly data; gut keeps me going with the decision.\n",
    "flexible and spontaneous, I just know what I have to do and I’ll do it. calm. science, psychology,\n",
    "finance, AI and cyber, pharma and meds, spirituality, and space. also conspiracies and luxury money.\"\"\"\n",
    "# If you prefer interactive:\n",
    "# user_text = input(\"Paste a paragraph about yourself:\\n> \")\n",
    "\n",
    "pred, hits = guess_mbti(user_text)\n",
    "print(\"Predicted type:\", pred)\n",
    "print(rarity_line(pred))\n",
    "\n",
    "# ===== 6) Plot rarity bar chart and highlight your predicted type\n",
    "try:\n",
    "    import matplotlib.pyplot as plt\n",
    "    import numpy as np\n",
    "    import pandas as pd\n",
    "\n",
    "    df = pd.DataFrame({\"type\": list(MBTI_FREQ.keys()), \"percent\": list(MBTI_FREQ.values())})\n",
    "    df = df.sort_values(\"percent\", ascending=True, ignore_index=True)\n",
    "\n",
    "    colors = [\"tab:blue\"] * len(df)\n",
    "    if pred in df[\"type\"].values:\n",
    "        idx = df.index[df[\"type\"] == pred][0]\n",
    "        colors[idx] = \"tab:orange\"\n",
    "\n",
    "    plt.figure(figsize=(12, 6))\n",
    "    plt.bar(df[\"type\"], df[\"percent\"], color=colors)\n",
    "    plt.title(\"MBTI Rarity in General Population (approximate)\")\n",
    "    plt.xlabel(\"MBTI Type\")\n",
    "    plt.ylabel(\"Percent (%)\")\n",
    "    plt.grid(axis=\"y\", alpha=0.3)\n",
    "\n",
    "    # annotate bars\n",
    "    for i, v in enumerate(df[\"percent\"]):\n",
    "        plt.text(i, v + 0.2, f\"{v:.1f}%\", ha=\"center\", fontsize=9)\n",
    "\n",
    "    if pred in df[\"type\"].values:\n",
    "        plt.text(idx, df.loc[idx,\"percent\"] + 2.0,\n",
    "                 f\"← You: {pred}\", ha=\"center\", fontsize=12, color=\"tab:orange\")\n",
    "\n",
    "    plt.tight_layout()\n",
    "    plt.show()\n",
    "except Exception as e:\n",
    "    print(\"Plotting skipped:\", e)\n"
   ]
  },
  {
   "cell_type": "markdown",
   "id": "1a6b52c1",
   "metadata": {},
   "source": [
    "Kaggle User Personality"
   ]
  },
  {
   "cell_type": "code",
   "execution_count": 39,
   "id": "4d0b6a4d",
   "metadata": {},
   "outputs": [
    {
     "data": {
      "application/vnd.plotly.v1+json": {
       "config": {
        "plotlyServerURL": "https://plot.ly"
       },
       "data": [
        {
         "labels": [
          "The Mediator – idealistic and empathetic",
          "The Thinker – analytical and objective",
          "The Advocate – insightful and principled",
          "The Mastermind – strategic and logical thinkers",
          "The Debater – curious and energetic",
          "The Campaigner – enthusiastic and imaginative"
         ],
         "type": "pie",
         "values": {
          "bdata": "Q//SRuBwUEAmJJ1xEmUtQHESZRUZ+idAlCiryNC/FEB0mZB0xkn0P7U+8XuIhfE/",
          "dtype": "f8"
         }
        }
       ],
       "layout": {
        "template": {
         "data": {
          "bar": [
           {
            "error_x": {
             "color": "#2a3f5f"
            },
            "error_y": {
             "color": "#2a3f5f"
            },
            "marker": {
             "line": {
              "color": "#E5ECF6",
              "width": 0.5
             },
             "pattern": {
              "fillmode": "overlay",
              "size": 10,
              "solidity": 0.2
             }
            },
            "type": "bar"
           }
          ],
          "barpolar": [
           {
            "marker": {
             "line": {
              "color": "#E5ECF6",
              "width": 0.5
             },
             "pattern": {
              "fillmode": "overlay",
              "size": 10,
              "solidity": 0.2
             }
            },
            "type": "barpolar"
           }
          ],
          "carpet": [
           {
            "aaxis": {
             "endlinecolor": "#2a3f5f",
             "gridcolor": "white",
             "linecolor": "white",
             "minorgridcolor": "white",
             "startlinecolor": "#2a3f5f"
            },
            "baxis": {
             "endlinecolor": "#2a3f5f",
             "gridcolor": "white",
             "linecolor": "white",
             "minorgridcolor": "white",
             "startlinecolor": "#2a3f5f"
            },
            "type": "carpet"
           }
          ],
          "choropleth": [
           {
            "colorbar": {
             "outlinewidth": 0,
             "ticks": ""
            },
            "type": "choropleth"
           }
          ],
          "contour": [
           {
            "colorbar": {
             "outlinewidth": 0,
             "ticks": ""
            },
            "colorscale": [
             [
              0,
              "#0d0887"
             ],
             [
              0.1111111111111111,
              "#46039f"
             ],
             [
              0.2222222222222222,
              "#7201a8"
             ],
             [
              0.3333333333333333,
              "#9c179e"
             ],
             [
              0.4444444444444444,
              "#bd3786"
             ],
             [
              0.5555555555555556,
              "#d8576b"
             ],
             [
              0.6666666666666666,
              "#ed7953"
             ],
             [
              0.7777777777777778,
              "#fb9f3a"
             ],
             [
              0.8888888888888888,
              "#fdca26"
             ],
             [
              1,
              "#f0f921"
             ]
            ],
            "type": "contour"
           }
          ],
          "contourcarpet": [
           {
            "colorbar": {
             "outlinewidth": 0,
             "ticks": ""
            },
            "type": "contourcarpet"
           }
          ],
          "heatmap": [
           {
            "colorbar": {
             "outlinewidth": 0,
             "ticks": ""
            },
            "colorscale": [
             [
              0,
              "#0d0887"
             ],
             [
              0.1111111111111111,
              "#46039f"
             ],
             [
              0.2222222222222222,
              "#7201a8"
             ],
             [
              0.3333333333333333,
              "#9c179e"
             ],
             [
              0.4444444444444444,
              "#bd3786"
             ],
             [
              0.5555555555555556,
              "#d8576b"
             ],
             [
              0.6666666666666666,
              "#ed7953"
             ],
             [
              0.7777777777777778,
              "#fb9f3a"
             ],
             [
              0.8888888888888888,
              "#fdca26"
             ],
             [
              1,
              "#f0f921"
             ]
            ],
            "type": "heatmap"
           }
          ],
          "histogram": [
           {
            "marker": {
             "pattern": {
              "fillmode": "overlay",
              "size": 10,
              "solidity": 0.2
             }
            },
            "type": "histogram"
           }
          ],
          "histogram2d": [
           {
            "colorbar": {
             "outlinewidth": 0,
             "ticks": ""
            },
            "colorscale": [
             [
              0,
              "#0d0887"
             ],
             [
              0.1111111111111111,
              "#46039f"
             ],
             [
              0.2222222222222222,
              "#7201a8"
             ],
             [
              0.3333333333333333,
              "#9c179e"
             ],
             [
              0.4444444444444444,
              "#bd3786"
             ],
             [
              0.5555555555555556,
              "#d8576b"
             ],
             [
              0.6666666666666666,
              "#ed7953"
             ],
             [
              0.7777777777777778,
              "#fb9f3a"
             ],
             [
              0.8888888888888888,
              "#fdca26"
             ],
             [
              1,
              "#f0f921"
             ]
            ],
            "type": "histogram2d"
           }
          ],
          "histogram2dcontour": [
           {
            "colorbar": {
             "outlinewidth": 0,
             "ticks": ""
            },
            "colorscale": [
             [
              0,
              "#0d0887"
             ],
             [
              0.1111111111111111,
              "#46039f"
             ],
             [
              0.2222222222222222,
              "#7201a8"
             ],
             [
              0.3333333333333333,
              "#9c179e"
             ],
             [
              0.4444444444444444,
              "#bd3786"
             ],
             [
              0.5555555555555556,
              "#d8576b"
             ],
             [
              0.6666666666666666,
              "#ed7953"
             ],
             [
              0.7777777777777778,
              "#fb9f3a"
             ],
             [
              0.8888888888888888,
              "#fdca26"
             ],
             [
              1,
              "#f0f921"
             ]
            ],
            "type": "histogram2dcontour"
           }
          ],
          "mesh3d": [
           {
            "colorbar": {
             "outlinewidth": 0,
             "ticks": ""
            },
            "type": "mesh3d"
           }
          ],
          "parcoords": [
           {
            "line": {
             "colorbar": {
              "outlinewidth": 0,
              "ticks": ""
             }
            },
            "type": "parcoords"
           }
          ],
          "pie": [
           {
            "automargin": true,
            "type": "pie"
           }
          ],
          "scatter": [
           {
            "fillpattern": {
             "fillmode": "overlay",
             "size": 10,
             "solidity": 0.2
            },
            "type": "scatter"
           }
          ],
          "scatter3d": [
           {
            "line": {
             "colorbar": {
              "outlinewidth": 0,
              "ticks": ""
             }
            },
            "marker": {
             "colorbar": {
              "outlinewidth": 0,
              "ticks": ""
             }
            },
            "type": "scatter3d"
           }
          ],
          "scattercarpet": [
           {
            "marker": {
             "colorbar": {
              "outlinewidth": 0,
              "ticks": ""
             }
            },
            "type": "scattercarpet"
           }
          ],
          "scattergeo": [
           {
            "marker": {
             "colorbar": {
              "outlinewidth": 0,
              "ticks": ""
             }
            },
            "type": "scattergeo"
           }
          ],
          "scattergl": [
           {
            "marker": {
             "colorbar": {
              "outlinewidth": 0,
              "ticks": ""
             }
            },
            "type": "scattergl"
           }
          ],
          "scattermap": [
           {
            "marker": {
             "colorbar": {
              "outlinewidth": 0,
              "ticks": ""
             }
            },
            "type": "scattermap"
           }
          ],
          "scattermapbox": [
           {
            "marker": {
             "colorbar": {
              "outlinewidth": 0,
              "ticks": ""
             }
            },
            "type": "scattermapbox"
           }
          ],
          "scatterpolar": [
           {
            "marker": {
             "colorbar": {
              "outlinewidth": 0,
              "ticks": ""
             }
            },
            "type": "scatterpolar"
           }
          ],
          "scatterpolargl": [
           {
            "marker": {
             "colorbar": {
              "outlinewidth": 0,
              "ticks": ""
             }
            },
            "type": "scatterpolargl"
           }
          ],
          "scatterternary": [
           {
            "marker": {
             "colorbar": {
              "outlinewidth": 0,
              "ticks": ""
             }
            },
            "type": "scatterternary"
           }
          ],
          "surface": [
           {
            "colorbar": {
             "outlinewidth": 0,
             "ticks": ""
            },
            "colorscale": [
             [
              0,
              "#0d0887"
             ],
             [
              0.1111111111111111,
              "#46039f"
             ],
             [
              0.2222222222222222,
              "#7201a8"
             ],
             [
              0.3333333333333333,
              "#9c179e"
             ],
             [
              0.4444444444444444,
              "#bd3786"
             ],
             [
              0.5555555555555556,
              "#d8576b"
             ],
             [
              0.6666666666666666,
              "#ed7953"
             ],
             [
              0.7777777777777778,
              "#fb9f3a"
             ],
             [
              0.8888888888888888,
              "#fdca26"
             ],
             [
              1,
              "#f0f921"
             ]
            ],
            "type": "surface"
           }
          ],
          "table": [
           {
            "cells": {
             "fill": {
              "color": "#EBF0F8"
             },
             "line": {
              "color": "white"
             }
            },
            "header": {
             "fill": {
              "color": "#C8D4E3"
             },
             "line": {
              "color": "white"
             }
            },
            "type": "table"
           }
          ]
         },
         "layout": {
          "annotationdefaults": {
           "arrowcolor": "#2a3f5f",
           "arrowhead": 0,
           "arrowwidth": 1
          },
          "autotypenumbers": "strict",
          "coloraxis": {
           "colorbar": {
            "outlinewidth": 0,
            "ticks": ""
           }
          },
          "colorscale": {
           "diverging": [
            [
             0,
             "#8e0152"
            ],
            [
             0.1,
             "#c51b7d"
            ],
            [
             0.2,
             "#de77ae"
            ],
            [
             0.3,
             "#f1b6da"
            ],
            [
             0.4,
             "#fde0ef"
            ],
            [
             0.5,
             "#f7f7f7"
            ],
            [
             0.6,
             "#e6f5d0"
            ],
            [
             0.7,
             "#b8e186"
            ],
            [
             0.8,
             "#7fbc41"
            ],
            [
             0.9,
             "#4d9221"
            ],
            [
             1,
             "#276419"
            ]
           ],
           "sequential": [
            [
             0,
             "#0d0887"
            ],
            [
             0.1111111111111111,
             "#46039f"
            ],
            [
             0.2222222222222222,
             "#7201a8"
            ],
            [
             0.3333333333333333,
             "#9c179e"
            ],
            [
             0.4444444444444444,
             "#bd3786"
            ],
            [
             0.5555555555555556,
             "#d8576b"
            ],
            [
             0.6666666666666666,
             "#ed7953"
            ],
            [
             0.7777777777777778,
             "#fb9f3a"
            ],
            [
             0.8888888888888888,
             "#fdca26"
            ],
            [
             1,
             "#f0f921"
            ]
           ],
           "sequentialminus": [
            [
             0,
             "#0d0887"
            ],
            [
             0.1111111111111111,
             "#46039f"
            ],
            [
             0.2222222222222222,
             "#7201a8"
            ],
            [
             0.3333333333333333,
             "#9c179e"
            ],
            [
             0.4444444444444444,
             "#bd3786"
            ],
            [
             0.5555555555555556,
             "#d8576b"
            ],
            [
             0.6666666666666666,
             "#ed7953"
            ],
            [
             0.7777777777777778,
             "#fb9f3a"
            ],
            [
             0.8888888888888888,
             "#fdca26"
            ],
            [
             1,
             "#f0f921"
            ]
           ]
          },
          "colorway": [
           "#636efa",
           "#EF553B",
           "#00cc96",
           "#ab63fa",
           "#FFA15A",
           "#19d3f3",
           "#FF6692",
           "#B6E880",
           "#FF97FF",
           "#FECB52"
          ],
          "font": {
           "color": "#2a3f5f"
          },
          "geo": {
           "bgcolor": "white",
           "lakecolor": "white",
           "landcolor": "#E5ECF6",
           "showlakes": true,
           "showland": true,
           "subunitcolor": "white"
          },
          "hoverlabel": {
           "align": "left"
          },
          "hovermode": "closest",
          "mapbox": {
           "style": "light"
          },
          "paper_bgcolor": "white",
          "plot_bgcolor": "#E5ECF6",
          "polar": {
           "angularaxis": {
            "gridcolor": "white",
            "linecolor": "white",
            "ticks": ""
           },
           "bgcolor": "#E5ECF6",
           "radialaxis": {
            "gridcolor": "white",
            "linecolor": "white",
            "ticks": ""
           }
          },
          "scene": {
           "xaxis": {
            "backgroundcolor": "#E5ECF6",
            "gridcolor": "white",
            "gridwidth": 2,
            "linecolor": "white",
            "showbackground": true,
            "ticks": "",
            "zerolinecolor": "white"
           },
           "yaxis": {
            "backgroundcolor": "#E5ECF6",
            "gridcolor": "white",
            "gridwidth": 2,
            "linecolor": "white",
            "showbackground": true,
            "ticks": "",
            "zerolinecolor": "white"
           },
           "zaxis": {
            "backgroundcolor": "#E5ECF6",
            "gridcolor": "white",
            "gridwidth": 2,
            "linecolor": "white",
            "showbackground": true,
            "ticks": "",
            "zerolinecolor": "white"
           }
          },
          "shapedefaults": {
           "line": {
            "color": "#2a3f5f"
           }
          },
          "ternary": {
           "aaxis": {
            "gridcolor": "white",
            "linecolor": "white",
            "ticks": ""
           },
           "baxis": {
            "gridcolor": "white",
            "linecolor": "white",
            "ticks": ""
           },
           "bgcolor": "#E5ECF6",
           "caxis": {
            "gridcolor": "white",
            "linecolor": "white",
            "ticks": ""
           }
          },
          "title": {
           "x": 0.05
          },
          "xaxis": {
           "automargin": true,
           "gridcolor": "white",
           "linecolor": "white",
           "ticks": "",
           "title": {
            "standoff": 15
           },
           "zerolinecolor": "white",
           "zerolinewidth": 2
          },
          "yaxis": {
           "automargin": true,
           "gridcolor": "white",
           "linecolor": "white",
           "ticks": "",
           "title": {
            "standoff": 15
           },
           "zerolinecolor": "white",
           "zerolinewidth": 2
          }
         }
        },
        "title": {
         "text": "Kaggle User Personality"
        }
       }
      }
     },
     "metadata": {},
     "output_type": "display_data"
    }
   ],
   "source": [
    "import plotly.graph_objs as go\n",
    "\n",
    "labels = pred_df['description']\n",
    "sizes = pred_df['percent'] * 100  # Remove *100 if already in percent\n",
    "trace = go.Pie(labels=labels, values=sizes)\n",
    "\n",
    "layout = go.Layout(\n",
    "    title='Kaggle User Personality'\n",
    ")\n",
    "\n",
    "fig = go.Figure(data=[trace], layout=layout)\n",
    "fig.show()\n"
   ]
  }
 ],
 "metadata": {
  "kernelspec": {
   "display_name": "Python (new_env)",
   "language": "python",
   "name": "new_env"
  },
  "language_info": {
   "codemirror_mode": {
    "name": "ipython",
    "version": 3
   },
   "file_extension": ".py",
   "mimetype": "text/x-python",
   "name": "python",
   "nbconvert_exporter": "python",
   "pygments_lexer": "ipython3",
   "version": "3.13.5"
  }
 },
 "nbformat": 4,
 "nbformat_minor": 5
}
